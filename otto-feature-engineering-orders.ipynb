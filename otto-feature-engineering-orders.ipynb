{
 "cells": [
  {
   "cell_type": "markdown",
   "id": "aafbaa0a",
   "metadata": {
    "papermill": {
     "duration": 0.007493,
     "end_time": "2023-03-20T16:58:11.638460",
     "exception": false,
     "start_time": "2023-03-20T16:58:11.630967",
     "status": "completed"
    },
    "tags": []
   },
   "source": [
    "# Feature engineering for orders model\n",
    "This notebook builds most features for the orders model (except for w2vec features that are calculated in a separate notebook).\n",
    "It takes as input already generated candidates, co-visitation matrixes and some pre-calculations made aside in create_counts_for_buys notebook. Most of the features are built using functions common for all the three models and defined in otto_common_fe notebook, but a few features unique to orders model are built using functions defined in this notebook."
   ]
  },
  {
   "cell_type": "markdown",
   "id": "727abdef",
   "metadata": {
    "papermill": {
     "duration": 0.005387,
     "end_time": "2023-03-20T16:58:11.649793",
     "exception": false,
     "start_time": "2023-03-20T16:58:11.644406",
     "status": "completed"
    },
    "tags": []
   },
   "source": [
    "## Imports and definitions"
   ]
  },
  {
   "cell_type": "code",
   "execution_count": 1,
   "id": "2b270e42",
   "metadata": {
    "_cell_guid": "b1076dfc-b9ad-4769-8c92-a6c4dae69d19",
    "_uuid": "8f2839f25d086af736a60e9eeb907d3b93b6e0e5",
    "execution": {
     "iopub.execute_input": "2023-03-20T16:58:11.663181Z",
     "iopub.status.busy": "2023-03-20T16:58:11.662563Z",
     "iopub.status.idle": "2023-03-20T16:58:24.819365Z",
     "shell.execute_reply": "2023-03-20T16:58:24.818082Z"
    },
    "papermill": {
     "duration": 13.16728,
     "end_time": "2023-03-20T16:58:24.822827",
     "exception": false,
     "start_time": "2023-03-20T16:58:11.655547",
     "status": "completed"
    },
    "tags": []
   },
   "outputs": [
    {
     "name": "stdout",
     "output_type": "stream",
     "text": [
      "Collecting polars\r\n",
      "  Downloading polars-0.16.14-cp37-abi3-manylinux_2_17_x86_64.manylinux2014_x86_64.whl (16.2 MB)\r\n",
      "\u001b[2K     \u001b[90m━━━━━━━━━━━━━━━━━━━━━━━━━━━━━━━━━━━━━━━━\u001b[0m \u001b[32m16.2/16.2 MB\u001b[0m \u001b[31m60.8 MB/s\u001b[0m eta \u001b[36m0:00:00\u001b[0m\r\n",
      "\u001b[?25hRequirement already satisfied: typing_extensions>=4.0.1 in /opt/conda/lib/python3.7/site-packages (from polars) (4.1.1)\r\n",
      "Installing collected packages: polars\r\n",
      "Successfully installed polars-0.16.14\r\n",
      "\u001b[33mWARNING: Running pip as the 'root' user can result in broken permissions and conflicting behaviour with the system package manager. It is recommended to use a virtual environment instead: https://pip.pypa.io/warnings/venv\u001b[0m\u001b[33m\r\n",
      "\u001b[0m"
     ]
    }
   ],
   "source": [
    "import numpy as np # linear algebra\n",
    "import pandas as pd # data processing, CSV file I/O (e.g. pd.read_csv)\n",
    "\n",
    "import gc\n",
    "from datetime import datetime\n",
    "from humanize import naturalsize\n",
    "\n",
    "# functions and classes common for several notebooks of current project\n",
    "import otto_common \n",
    "import otto_common_fe"
   ]
  },
  {
   "cell_type": "code",
   "execution_count": 2,
   "id": "53ad5e5e",
   "metadata": {
    "execution": {
     "iopub.execute_input": "2023-03-20T16:58:24.838441Z",
     "iopub.status.busy": "2023-03-20T16:58:24.837452Z",
     "iopub.status.idle": "2023-03-20T16:58:35.272356Z",
     "shell.execute_reply": "2023-03-20T16:58:35.270918Z"
    },
    "papermill": {
     "duration": 10.445418,
     "end_time": "2023-03-20T16:58:35.275081",
     "exception": false,
     "start_time": "2023-03-20T16:58:24.829663",
     "status": "completed"
    },
    "tags": []
   },
   "outputs": [
    {
     "name": "stdout",
     "output_type": "stream",
     "text": [
      "Requirement already satisfied: polars in /opt/conda/lib/python3.7/site-packages (0.16.14)\r\n",
      "Requirement already satisfied: typing_extensions>=4.0.1 in /opt/conda/lib/python3.7/site-packages (from polars) (4.1.1)\r\n",
      "\u001b[33mWARNING: Running pip as the 'root' user can result in broken permissions and conflicting behaviour with the system package manager. It is recommended to use a virtual environment instead: https://pip.pypa.io/warnings/venv\u001b[0m\u001b[33m\r\n",
      "\u001b[0m"
     ]
    }
   ],
   "source": [
    "# Polars library is used to generate features from co-visitation matrix.\n",
    "!pip install polars\n",
    "import polars as pl"
   ]
  },
  {
   "cell_type": "code",
   "execution_count": 3,
   "id": "8fceeb6f",
   "metadata": {
    "execution": {
     "iopub.execute_input": "2023-03-20T16:58:35.289895Z",
     "iopub.status.busy": "2023-03-20T16:58:35.289487Z",
     "iopub.status.idle": "2023-03-20T16:58:35.296537Z",
     "shell.execute_reply": "2023-03-20T16:58:35.295610Z"
    },
    "papermill": {
     "duration": 0.016559,
     "end_time": "2023-03-20T16:58:35.298534",
     "exception": false,
     "start_time": "2023-03-20T16:58:35.281975",
     "status": "completed"
    },
    "tags": []
   },
   "outputs": [],
   "source": [
    "# This function was used for data exploration only.\n",
    "# It selects ground truth aids that were missed during candidate generation.\n",
    "def cand_read_and_reduce_test_not_cands(cand_path, is_cv):\n",
    "    df = pd.read_parquet(cand_path)\n",
    "    df = df.loc[df['pred_true'] == 0]\n",
    "    df = df[['session', 'orders']]\n",
    "    df = df.explode('orders').reset_index(drop=True)\n",
    "    df['session'] = df['session'].astype(np.int32)\n",
    "    df['order_predictions'] = df['orders'].astype(np.int32)\n",
    "    del df['orders']\n",
    "    gc.collect()\n",
    "    return df"
   ]
  },
  {
   "cell_type": "code",
   "execution_count": 4,
   "id": "1d3b2c9c",
   "metadata": {
    "execution": {
     "iopub.execute_input": "2023-03-20T16:58:35.312894Z",
     "iopub.status.busy": "2023-03-20T16:58:35.312533Z",
     "iopub.status.idle": "2023-03-20T16:58:35.319165Z",
     "shell.execute_reply": "2023-03-20T16:58:35.318185Z"
    },
    "papermill": {
     "duration": 0.016161,
     "end_time": "2023-03-20T16:58:35.321188",
     "exception": false,
     "start_time": "2023-03-20T16:58:35.305027",
     "status": "completed"
    },
    "tags": []
   },
   "outputs": [],
   "source": [
    "# Number of buys per aid in history (full sessions).\n",
    "def add_total_buys(train_path, df_candidate):\n",
    "    total_counts = pd.read_parquet(train_path)\n",
    "    total_counts = total_counts.loc[total_counts['type'] > 0]\n",
    "    total_counts = total_counts.groupby('aid')['session'].nunique()\n",
    "    gc.collect()\n",
    "    total_counts.name = \"aid_counts_buys\"\n",
    "    df_candidate = pd.merge(df_candidate, total_counts, how='left',\n",
    "                            left_on='order_predictions', right_index=True)\n",
    "    df_candidate['aid_counts_buys'] = df_candidate['aid_counts_buys'].fillna(0).astype(np.int16)\n",
    "    return df_candidate"
   ]
  },
  {
   "cell_type": "code",
   "execution_count": 5,
   "id": "847e1dcd",
   "metadata": {
    "execution": {
     "iopub.execute_input": "2023-03-20T16:58:35.335506Z",
     "iopub.status.busy": "2023-03-20T16:58:35.335183Z",
     "iopub.status.idle": "2023-03-20T16:58:35.342155Z",
     "shell.execute_reply": "2023-03-20T16:58:35.341181Z"
    },
    "papermill": {
     "duration": 0.016518,
     "end_time": "2023-03-20T16:58:35.344263",
     "exception": false,
     "start_time": "2023-03-20T16:58:35.327745",
     "status": "completed"
    },
    "tags": []
   },
   "outputs": [],
   "source": [
    "# Number of orders per aid in history (full sessions).\n",
    "def add_total_orders(train_path, df_candidate):\n",
    "    total_counts = pd.read_parquet(train_path)\n",
    "    total_counts = total_counts.loc[total_counts['type'] == 2]\n",
    "    total_counts = total_counts.groupby('aid')['session'].nunique()\n",
    "    gc.collect()\n",
    "    total_counts.name = \"aid_counts_orders\"\n",
    "    df_candidate = pd.merge(df_candidate, total_counts, how='left',\n",
    "                            left_on='order_predictions', right_index=True)\n",
    "    df_candidate['aid_counts_orders'] = df_candidate['aid_counts_orders'].fillna(0).astype(np.int16)\n",
    "    return df_candidate"
   ]
  },
  {
   "cell_type": "code",
   "execution_count": 6,
   "id": "df1347d1",
   "metadata": {
    "execution": {
     "iopub.execute_input": "2023-03-20T16:58:35.360118Z",
     "iopub.status.busy": "2023-03-20T16:58:35.359766Z",
     "iopub.status.idle": "2023-03-20T16:58:35.365768Z",
     "shell.execute_reply": "2023-03-20T16:58:35.364833Z"
    },
    "papermill": {
     "duration": 0.016849,
     "end_time": "2023-03-20T16:58:35.367653",
     "exception": false,
     "start_time": "2023-03-20T16:58:35.350804",
     "status": "completed"
    },
    "tags": []
   },
   "outputs": [],
   "source": [
    "# Types of buys in session (2 - if at least one aid ordered, 1 - if no orders in history, but at least one aid was carted, 0 if only clicks in session).\n",
    "def add_buys_in_session(sessions_path, df_candidate):\n",
    "    df_session = pd.read_parquet(sessions_path)\n",
    "    df_session = df_session.groupby('session').agg({'type':'max'})\n",
    "    df_session = df_session.rename(columns={'type':'buys_in_session'})\n",
    "    df_candidate = pd.merge(df_candidate, df_session, how='left', left_on='session', right_index=True)\n",
    "    return df_candidate"
   ]
  },
  {
   "cell_type": "code",
   "execution_count": 7,
   "id": "75a6b7b0",
   "metadata": {
    "execution": {
     "iopub.execute_input": "2023-03-20T16:58:35.382250Z",
     "iopub.status.busy": "2023-03-20T16:58:35.381903Z",
     "iopub.status.idle": "2023-03-20T16:58:35.389437Z",
     "shell.execute_reply": "2023-03-20T16:58:35.388440Z"
    },
    "papermill": {
     "duration": 0.017093,
     "end_time": "2023-03-20T16:58:35.391469",
     "exception": false,
     "start_time": "2023-03-20T16:58:35.374376",
     "status": "completed"
    },
    "tags": []
   },
   "outputs": [],
   "source": [
    "# Adds a feature showing how often aid was ordered in case if it was clicked, carted or ordered before.\n",
    "def join_the_2order_conv(all_2order_conv_path, df_candidate):\n",
    "    df_conv = pd.read_parquet(all_2order_conv_path)\n",
    "    df_candidate = pd.merge(df_candidate, df_conv, how='left', left_on='order_predictions', right_on='aid')\n",
    "    df_candidate['total_2order_conv'] = 0\n",
    "    df_candidate.loc[df_candidate['type_last'] == 0, 'total_2order_conv'] = df_candidate['click2order_conv']\n",
    "    df_candidate.loc[df_candidate['type_last'] == 1, 'total_2order_conv'] = df_candidate['cart2order_conv']\n",
    "    df_candidate.loc[df_candidate['type_last'] == 2, 'total_2order_conv'] = df_candidate['order2order_conv']\n",
    "    df_candidate['total_2order_conv'] = df_candidate['total_2order_conv'].astype(np.float32)\n",
    "    del df_candidate['aid'], df_candidate['click2order_conv'], df_candidate['cart2order_conv']\n",
    "    del df_candidate['order2order_conv']\n",
    "    return df_candidate"
   ]
  },
  {
   "cell_type": "code",
   "execution_count": 8,
   "id": "b23eb68c",
   "metadata": {
    "execution": {
     "iopub.execute_input": "2023-03-20T16:58:35.405743Z",
     "iopub.status.busy": "2023-03-20T16:58:35.405429Z",
     "iopub.status.idle": "2023-03-20T16:58:35.415151Z",
     "shell.execute_reply": "2023-03-20T16:58:35.413851Z"
    },
    "papermill": {
     "duration": 0.019453,
     "end_time": "2023-03-20T16:58:35.417254",
     "exception": false,
     "start_time": "2023-03-20T16:58:35.397801",
     "status": "completed"
    },
    "tags": []
   },
   "outputs": [],
   "source": [
    "# Generates a feature using buy2buy co-visitation matrix.\n",
    "# Uses all the orders in session and only recent carts. For sessions with no orders and no recent carts, the feature is always 0.\n",
    "def add_buy2buy_weight(input_path, buy2buy_matrice, df_candidate):\n",
    "    n_max = 40\n",
    "    col_name = 'wgt_buy2buy'\n",
    "    df_test = pd.read_parquet(input_path)\n",
    "    df_test['time_delta'] = df_test.groupby('session')['ts'].transform(np.max).astype(np.int32)\n",
    "    df_test['time_delta'] = df_test['time_delta'] - df_test['ts']\n",
    "    df_test = df_test.loc[((df_test['time_delta'] < 24 * 60 * 60) & (df_test['type'] == 1)) | (df_test['type'] == 2)]\n",
    "    gc.collect()\n",
    "    df_test = df_test.sort_values(['session','ts'],ascending=[True,False])\n",
    "    df_test['n'] = df_test.groupby('session').cumcount().astype(np.int16)\n",
    "    df_test = df_test.loc[df_test['n'] < n_max]\n",
    "    df_test = df_test.drop('time_delta', axis=1)\n",
    "    df_test = df_test[['session', 'aid', 'n']]\n",
    "    gc.collect()\n",
    "    \n",
    "    df_candidate = pl.from_pandas(df_candidate)\n",
    "    df_test = pl.from_pandas(df_test)    \n",
    "    df_candidate = otto_common_fe.add_matrice_data_polars(df_test, buy2buy_matrice, df_candidate, col_name, n_max,\n",
    "                                                          'order_predictions', normalize=True)\n",
    "    return df_candidate"
   ]
  },
  {
   "cell_type": "code",
   "execution_count": 9,
   "id": "1102929b",
   "metadata": {
    "execution": {
     "iopub.execute_input": "2023-03-20T16:58:35.431390Z",
     "iopub.status.busy": "2023-03-20T16:58:35.431031Z",
     "iopub.status.idle": "2023-03-20T16:58:35.437402Z",
     "shell.execute_reply": "2023-03-20T16:58:35.436422Z"
    },
    "papermill": {
     "duration": 0.015749,
     "end_time": "2023-03-20T16:58:35.439423",
     "exception": false,
     "start_time": "2023-03-20T16:58:35.423674",
     "status": "completed"
    },
    "tags": []
   },
   "outputs": [],
   "source": [
    "# Generates a feature using click2buy short co-visitation matrix. Short refers to time between click and buy events, only\n",
    "# cases of relatively short period of time are counted.\n",
    "# Uses no more than 15 events from the last hour of the session.\n",
    "def add_click2buy_short_weight(input_path, c2buy_short_matrice, df_candidate):\n",
    "    n_max = 15\n",
    "    col_name = 'wgt_c2buy_short'\n",
    "    time_frame = 60 * 60\n",
    "    df_test = pd.read_parquet(input_path)\n",
    "    df_test= otto_common.filter_by_time_and_n_max(df_test, time_frame, n_max)\n",
    "    df_candidate = pl.from_pandas(df_candidate)\n",
    "    df_test = pl.from_pandas(df_test)\n",
    "    df_candidate = otto_common_fe.add_matrice_data_polars(df_test, c2buy_short_matrice, df_candidate, col_name, n_max,\n",
    "                                                         'order_predictions')\n",
    "    return df_candidate\n"
   ]
  },
  {
   "cell_type": "code",
   "execution_count": 10,
   "id": "e8dd9a86",
   "metadata": {
    "execution": {
     "iopub.execute_input": "2023-03-20T16:58:35.453561Z",
     "iopub.status.busy": "2023-03-20T16:58:35.453222Z",
     "iopub.status.idle": "2023-03-20T16:58:35.459468Z",
     "shell.execute_reply": "2023-03-20T16:58:35.458583Z"
    },
    "papermill": {
     "duration": 0.015483,
     "end_time": "2023-03-20T16:58:35.461440",
     "exception": false,
     "start_time": "2023-03-20T16:58:35.445957",
     "status": "completed"
    },
    "tags": []
   },
   "outputs": [],
   "source": [
    "# Generates a feature using click2buy \"long\" co-visitation matrix. \n",
    "# Uses no more than 30 events from the last 3 hours of each session.\n",
    "def add_click2buy_weight(input_path, c2buy_matrice, df_candidate):\n",
    "    n_max = 30\n",
    "    col_name = 'wgt_c2buy_full'\n",
    "    time_frame = 3 * 60 * 60\n",
    "    df_test = pd.read_parquet(input_path)\n",
    "    df_test= otto_common.filter_by_time_and_n_max(df_test, time_frame, n_max)\n",
    "    df_candidate = pl.from_pandas(df_candidate)\n",
    "    df_test = pl.from_pandas(df_test)\n",
    "    df_candidate = otto_common_fe.add_matrice_data_polars(df_test, c2buy_matrice, df_candidate, col_name, n_max,\n",
    "                                                          'order_predictions', normalize=True)\n",
    "    return df_candidate"
   ]
  },
  {
   "cell_type": "code",
   "execution_count": 11,
   "id": "5e21e0f4",
   "metadata": {
    "execution": {
     "iopub.execute_input": "2023-03-20T16:58:35.475619Z",
     "iopub.status.busy": "2023-03-20T16:58:35.475280Z",
     "iopub.status.idle": "2023-03-20T16:58:35.481617Z",
     "shell.execute_reply": "2023-03-20T16:58:35.480655Z"
    },
    "papermill": {
     "duration": 0.015816,
     "end_time": "2023-03-20T16:58:35.483636",
     "exception": false,
     "start_time": "2023-03-20T16:58:35.467820",
     "status": "completed"
    },
    "tags": []
   },
   "outputs": [],
   "source": [
    "# Generates a feature using click2buy \"long-visitation matrix. \n",
    "# Uses just 6 events from the last 3 hours of each session.\n",
    "def add_click2buy_weight_6(input_path, c2buy_matrice, df_candidate):\n",
    "    n_max = 6\n",
    "    col_name = 'wgt_c2buy_6_from_full'\n",
    "    time_frame = 3 * 60 * 60\n",
    "    df_test = pd.read_parquet(input_path)    \n",
    "    df_test= otto_common.filter_by_time_and_n_max(df_test, time_frame, n_max)\n",
    "    df_candidate = pl.from_pandas(df_candidate)\n",
    "    df_test = pl.from_pandas(df_test)\n",
    "    df_candidate = otto_common_fe.add_matrice_data_polars(df_test, c2buy_matrice, df_candidate, col_name, n_max,\n",
    "                                                         'order_predictions')\n",
    "    return df_candidate"
   ]
  },
  {
   "cell_type": "markdown",
   "id": "b9935986",
   "metadata": {
    "papermill": {
     "duration": 0.006428,
     "end_time": "2023-03-20T16:58:35.496625",
     "exception": false,
     "start_time": "2023-03-20T16:58:35.490197",
     "status": "completed"
    },
    "tags": []
   },
   "source": [
    "## Feature engineering for cross-validation datasets\n",
    "For the orders model, two different cross-validation datasets are used to create the same features. Later two different models will be trained on those data and then their predictions will be averaged to get the final prediction."
   ]
  },
  {
   "cell_type": "code",
   "execution_count": 12,
   "id": "0b77aba8",
   "metadata": {
    "execution": {
     "iopub.execute_input": "2023-03-20T16:58:35.510905Z",
     "iopub.status.busy": "2023-03-20T16:58:35.510539Z",
     "iopub.status.idle": "2023-03-20T16:58:35.517053Z",
     "shell.execute_reply": "2023-03-20T16:58:35.516035Z"
    },
    "papermill": {
     "duration": 0.016014,
     "end_time": "2023-03-20T16:58:35.519113",
     "exception": false,
     "start_time": "2023-03-20T16:58:35.503099",
     "status": "completed"
    },
    "tags": []
   },
   "outputs": [],
   "source": [
    "# Input paths for the first cross-validation dataset.\n",
    "# Most inputs are the same for both cross-validation datasets, but not all of them.\n",
    "candidates_cv1 = '/kaggle/input/otto-validate-candidates-orders/candidates_order_cv1.parquet'\n",
    "trunked_sessions = '/kaggle/input/otto-prepare-cv/cv_inputs.parquet'\n",
    "buy2buy_matrice_cv = '/kaggle/input/otto-prepare-candidates-buys/matrix_buy2buy_cv.parquet'\n",
    "\n",
    "click2buy_short_matrice_cv = '/kaggle/input/otto-click2buy-short/matrix_click2buy_cv_short.parquet'\n",
    "click2buy_matrice_cv = '/kaggle/input/otto-prepare-candidates-buys/matrix_click2buy_cv.parquet'\n",
    "conversions_cv = '/kaggle/input/create-counts-buys/conversions_cv.parquet'\n",
    "all2order_conv_cv = '/kaggle/input/create-counts-buys/2order_conversions_cv.parquet'\n",
    "click_before_buy_cv = '/kaggle/input/create-counts-buys/clicks_before_buy_cv.parquet'\n",
    "median_time_viewed_cv = '/kaggle/input/create-counts-for-clicks/time_viewed_agg_cv.parquet'\n",
    "history_path_cv = '/kaggle/input/create-counts-buys/history_change_cv1.parquet'\n",
    "full_sessions = '/kaggle/input/otto-prepare-cv/cv_train.parquet'\n",
    "\n",
    "counts_before_path = '/kaggle/input/create-counts-buys/daily_counts_orders_train.parquet'\n",
    "counts_during_path = '/kaggle/input/create-counts-buys/daily_counts_orders_cv1.parquet'\n",
    "counts_before_path_clicks = '/kaggle/input/create-counts-for-clicks/daily_counts_train.parquet'\n",
    "counts_during_path_clicks = '/kaggle/input/create-counts-for-clicks/daily_counts_cv1.parquet'\n"
   ]
  },
  {
   "cell_type": "code",
   "execution_count": 13,
   "id": "d027d20d",
   "metadata": {
    "execution": {
     "iopub.execute_input": "2023-03-20T16:58:35.533480Z",
     "iopub.status.busy": "2023-03-20T16:58:35.533123Z",
     "iopub.status.idle": "2023-03-20T17:28:27.050845Z",
     "shell.execute_reply": "2023-03-20T17:28:27.049482Z"
    },
    "papermill": {
     "duration": 1791.537931,
     "end_time": "2023-03-20T17:28:27.063596",
     "exception": false,
     "start_time": "2023-03-20T16:58:35.525665",
     "status": "completed"
    },
    "tags": []
   },
   "outputs": [
    {
     "name": "stdout",
     "output_type": "stream",
     "text": [
      "start normalizing\n",
      "wgt_buy2buy\n",
      "0\n",
      "1\n",
      "2\n",
      "3\n",
      "4\n",
      "5\n",
      "6\n",
      "7\n",
      "8\n",
      "9\n",
      "10\n",
      "11\n",
      "12\n",
      "13\n",
      "14\n",
      "15\n",
      "16\n",
      "17\n",
      "18\n",
      "19\n",
      "20\n",
      "21\n",
      "22\n",
      "23\n",
      "24\n",
      "25\n",
      "26\n",
      "27\n",
      "28\n",
      "29\n",
      "30\n",
      "31\n",
      "32\n",
      "33\n",
      "34\n",
      "35\n",
      "36\n",
      "37\n",
      "38\n",
      "39\n",
      "wgt_c2buy_short\n",
      "0\n",
      "1\n",
      "2\n",
      "3\n",
      "4\n",
      "5\n",
      "6\n",
      "7\n",
      "8\n",
      "9\n",
      "10\n",
      "11\n",
      "12\n",
      "13\n",
      "14\n",
      "start normalizing\n",
      "wgt_c2buy_full\n",
      "0\n",
      "1\n",
      "2\n",
      "3\n",
      "4\n",
      "5\n",
      "6\n",
      "7\n",
      "8\n",
      "9\n",
      "10\n",
      "11\n",
      "12\n",
      "13\n",
      "14\n",
      "15\n",
      "16\n",
      "17\n",
      "18\n",
      "19\n",
      "20\n",
      "21\n",
      "22\n",
      "23\n",
      "24\n",
      "25\n",
      "26\n",
      "27\n",
      "28\n",
      "29\n",
      "wgt_c2buy_6_from_full\n",
      "0\n",
      "1\n",
      "2\n",
      "3\n",
      "4\n",
      "5\n",
      "CPU times: user 55min 3s, sys: 15min 57s, total: 1h 11min\n",
      "Wall time: 29min 51s\n"
     ]
    }
   ],
   "source": [
    "%%time\n",
    "# Imports candidates and builds features from co-visitation matrixes for the first cross-validation dataset.\n",
    "\n",
    "df_cand = pd.read_parquet(candidates_cv1)\n",
    "df_cand = otto_common_fe.cand_read_and_reduce(df_cand, 'order', True)\n",
    "\n",
    "df_cand = add_buy2buy_weight(trunked_sessions, buy2buy_matrice_cv, df_cand)\n",
    "df_cand = add_click2buy_short_weight(trunked_sessions, click2buy_short_matrice_cv, df_cand)\n",
    "df_cand = add_click2buy_weight(trunked_sessions, click2buy_matrice_cv, df_cand)\n",
    "df_cand = add_click2buy_weight_6(trunked_sessions, click2buy_matrice_cv, df_cand)"
   ]
  },
  {
   "cell_type": "code",
   "execution_count": 14,
   "id": "8abd21c9",
   "metadata": {
    "execution": {
     "iopub.execute_input": "2023-03-20T17:28:27.091134Z",
     "iopub.status.busy": "2023-03-20T17:28:27.090317Z",
     "iopub.status.idle": "2023-03-20T17:33:11.530800Z",
     "shell.execute_reply": "2023-03-20T17:33:11.529513Z"
    },
    "papermill": {
     "duration": 284.469845,
     "end_time": "2023-03-20T17:33:11.545843",
     "exception": false,
     "start_time": "2023-03-20T17:28:27.075998",
     "status": "completed"
    },
    "tags": []
   },
   "outputs": [
    {
     "name": "stdout",
     "output_type": "stream",
     "text": [
      "CPU times: user 3min 48s, sys: 1min 4s, total: 4min 53s\n",
      "Wall time: 4min 44s\n"
     ]
    }
   ],
   "source": [
    "%%time\n",
    "# Builds all the other features. Takes significantly less time than building features from co-visitation matrixes.\n",
    "\n",
    "#df_cand = pd.read_parquet(candidates_cv1)\n",
    "#df_cand = otto_common.cand_read_and_reduce(df_cand, 'order', True)\n",
    "\n",
    "df_cand = otto_common_fe.add_history_aid_features(trunked_sessions, df_cand, 'order_predictions')\n",
    "df_cand = otto_common_fe.add_history_agg_features(trunked_sessions, df_cand)\n",
    "df_cand = otto_common_fe.add_time_viewed(trunked_sessions, df_cand, 'order_predictions')\n",
    "df_cand = otto_common_fe.add_type_last(trunked_sessions, df_cand, 'order_predictions')\n",
    "df_cand = otto_common_fe.add_daily_averages(counts_before_path_clicks,counts_during_path_clicks, df_cand, 'order_predictions')\n",
    "df_cand = otto_common_fe.add_daily_averages_same_day(counts_during_path_clicks, df_cand, 'order_predictions')\n",
    "df_cand = otto_common_fe.add_weekly_averages(counts_before_path,counts_during_path, df_cand, 'order_predictions')\n",
    "df_cand = add_total_buys(full_sessions, df_cand)\n",
    "df_cand = add_total_orders(full_sessions, df_cand)\n",
    "df_cand = otto_common_fe.add_session_time(trunked_sessions, df_cand)\n",
    "df_cand = otto_common_fe.count_events_3hours(trunked_sessions, df_cand)\n",
    "df_cand = otto_common_fe.add_total_buys_in_session(trunked_sessions, df_cand)\n",
    "df_cand = add_buys_in_session(trunked_sessions, df_cand)\n",
    "df_cand = join_the_2order_conv(all2order_conv_cv, df_cand)\n",
    "df_cand = otto_common_fe.add_clicks_before_buy(click_before_buy_cv, df_cand, 'order_predictions')\n",
    "df_cand = otto_common_fe.add_median_time_viewed(median_time_viewed_cv, df_cand, 'order_predictions')\n",
    "df_cand = otto_common_fe.add_history_similarity(history_path_cv, df_cand)"
   ]
  },
  {
   "cell_type": "code",
   "execution_count": 15,
   "id": "0a872a1c",
   "metadata": {
    "execution": {
     "iopub.execute_input": "2023-03-20T17:33:11.573826Z",
     "iopub.status.busy": "2023-03-20T17:33:11.573077Z",
     "iopub.status.idle": "2023-03-20T17:33:11.583856Z",
     "shell.execute_reply": "2023-03-20T17:33:11.582787Z"
    },
    "papermill": {
     "duration": 0.027317,
     "end_time": "2023-03-20T17:33:11.586099",
     "exception": false,
     "start_time": "2023-03-20T17:33:11.558782",
     "status": "completed"
    },
    "tags": []
   },
   "outputs": [
    {
     "data": {
      "text/plain": [
       "\"\\n%%time\\n# Was used to check all aids that were not selected during candidate generation.\\n\\n#df_cand = pd.read_parquet(candidates_cv1)\\ndf_cand = cand_read_and_reduce_test_not_cands(candidates_cv1, True)\\ndf_cand = otto_common.add_history_aid_features(trunked_sessions, df_cand, 'order_predictions')\\ndf_cand = otto_common.add_history_agg_features(trunked_sessions, df_cand)\\ndf_cand = otto_common.add_time_viewed(trunked_sessions, df_cand, 'order_predictions')\\ndf_cand = otto_common.add_type_last(trunked_sessions, df_cand, 'order_predictions')\\ndf_cand = otto_common.add_daily_averages(counts_before_path_clicks,counts_during_path_clicks, df_cand, 'order_predictions')\\ndf_cand = otto_common.add_weekly_averages(counts_before_path,counts_during_path, df_cand, 'order_predictions')\\ndf_cand = add_total_buys(full_sessions, df_cand)\\ndf_cand = add_total_orders(full_sessions, df_cand)\\ndf_cand = otto_common.add_session_time(trunked_sessions, df_cand)\\ndf_cand = otto_common.count_events_3hours(trunked_sessions, df_cand)\\ndf_cand = otto_common.add_total_buys_in_session(trunked_sessions, df_cand)\\ndf_cand = add_buys_in_session(trunked_sessions, df_cand)\\ndf_cand = join_the_2order_conv(all2order_conv_cv, df_cand)\\ndf_cand = otto_common.add_clicks_before_buy(click_before_buy_cv, df_cand, 'order_predictions')\\ndf_cand = otto_common.add_median_time_viewed(median_time_viewed_cv, df_cand, 'order_predictions')\\ndf_cand = otto_common.add_history_similarity(history_path_cv, df_cand)\\n\""
      ]
     },
     "execution_count": 15,
     "metadata": {},
     "output_type": "execute_result"
    }
   ],
   "source": [
    "'''\n",
    "%%time\n",
    "# Was used to check all aids that were not selected during candidate generation.\n",
    "\n",
    "#df_cand = pd.read_parquet(candidates_cv1)\n",
    "df_cand = cand_read_and_reduce_test_not_cands(candidates_cv1, True)\n",
    "df_cand = otto_common.add_history_aid_features(trunked_sessions, df_cand, 'order_predictions')\n",
    "df_cand = otto_common.add_history_agg_features(trunked_sessions, df_cand)\n",
    "df_cand = otto_common.add_time_viewed(trunked_sessions, df_cand, 'order_predictions')\n",
    "df_cand = otto_common.add_type_last(trunked_sessions, df_cand, 'order_predictions')\n",
    "df_cand = otto_common.add_daily_averages(counts_before_path_clicks,counts_during_path_clicks, df_cand, 'order_predictions')\n",
    "df_cand = otto_common.add_weekly_averages(counts_before_path,counts_during_path, df_cand, 'order_predictions')\n",
    "df_cand = add_total_buys(full_sessions, df_cand)\n",
    "df_cand = add_total_orders(full_sessions, df_cand)\n",
    "df_cand = otto_common.add_session_time(trunked_sessions, df_cand)\n",
    "df_cand = otto_common.count_events_3hours(trunked_sessions, df_cand)\n",
    "df_cand = otto_common.add_total_buys_in_session(trunked_sessions, df_cand)\n",
    "df_cand = add_buys_in_session(trunked_sessions, df_cand)\n",
    "df_cand = join_the_2order_conv(all2order_conv_cv, df_cand)\n",
    "df_cand = otto_common.add_clicks_before_buy(click_before_buy_cv, df_cand, 'order_predictions')\n",
    "df_cand = otto_common.add_median_time_viewed(median_time_viewed_cv, df_cand, 'order_predictions')\n",
    "df_cand = otto_common.add_history_similarity(history_path_cv, df_cand)\n",
    "'''"
   ]
  },
  {
   "cell_type": "code",
   "execution_count": 16,
   "id": "3a915182",
   "metadata": {
    "execution": {
     "iopub.execute_input": "2023-03-20T17:33:11.613914Z",
     "iopub.status.busy": "2023-03-20T17:33:11.612952Z",
     "iopub.status.idle": "2023-03-20T17:33:17.485907Z",
     "shell.execute_reply": "2023-03-20T17:33:17.484636Z"
    },
    "papermill": {
     "duration": 5.889749,
     "end_time": "2023-03-20T17:33:17.488805",
     "exception": false,
     "start_time": "2023-03-20T17:33:11.599056",
     "status": "completed"
    },
    "tags": []
   },
   "outputs": [
    {
     "name": "stdout",
     "output_type": "stream",
     "text": [
      "862.0 MB\n"
     ]
    }
   ],
   "source": [
    "# Check resulting dataframe size and export to file.\n",
    "size = df_cand.memory_usage(deep='True').sum()\n",
    "print(naturalsize(size))\n",
    "df_cand.to_parquet('cv_features_order.parquet')"
   ]
  },
  {
   "cell_type": "code",
   "execution_count": 17,
   "id": "286b902b",
   "metadata": {
    "execution": {
     "iopub.execute_input": "2023-03-20T17:33:17.516637Z",
     "iopub.status.busy": "2023-03-20T17:33:17.516207Z",
     "iopub.status.idle": "2023-03-20T17:33:17.521538Z",
     "shell.execute_reply": "2023-03-20T17:33:17.520348Z"
    },
    "papermill": {
     "duration": 0.022262,
     "end_time": "2023-03-20T17:33:17.523970",
     "exception": false,
     "start_time": "2023-03-20T17:33:17.501708",
     "status": "completed"
    },
    "tags": []
   },
   "outputs": [],
   "source": [
    "# Input paths for the second cross-validation dataset (only paths that are different between the cross-validation datasets).\n",
    "candidates_cv2 = '/kaggle/input/otto-validate-candidates-orders/candidates_order_cv2.parquet'\n",
    "trunked_sessions = '/kaggle/input/otto-prepare-cv/cv_inputs2.parquet'\n",
    "history_path_cv2 = '/kaggle/input/create-counts-buys/history_change_cv2.parquet'\n",
    "\n",
    "counts_during_path = '/kaggle/input/create-counts-buys/daily_counts_orders_cv2.parquet'\n",
    "counts_during_path_clicks = '/kaggle/input/create-counts-for-clicks/daily_counts_cv2.parquet'"
   ]
  },
  {
   "cell_type": "code",
   "execution_count": 18,
   "id": "7bb02c9f",
   "metadata": {
    "execution": {
     "iopub.execute_input": "2023-03-20T17:33:17.552072Z",
     "iopub.status.busy": "2023-03-20T17:33:17.551596Z",
     "iopub.status.idle": "2023-03-20T18:06:46.984036Z",
     "shell.execute_reply": "2023-03-20T18:06:46.981775Z"
    },
    "papermill": {
     "duration": 2009.466828,
     "end_time": "2023-03-20T18:06:47.004012",
     "exception": false,
     "start_time": "2023-03-20T17:33:17.537184",
     "status": "completed"
    },
    "tags": []
   },
   "outputs": [
    {
     "name": "stdout",
     "output_type": "stream",
     "text": [
      "start normalizing\n",
      "wgt_buy2buy\n",
      "0\n",
      "1\n",
      "2\n",
      "3\n",
      "4\n",
      "5\n",
      "6\n",
      "7\n",
      "8\n",
      "9\n",
      "10\n",
      "11\n",
      "12\n",
      "13\n",
      "14\n",
      "15\n",
      "16\n",
      "17\n",
      "18\n",
      "19\n",
      "20\n",
      "21\n",
      "22\n",
      "23\n",
      "24\n",
      "25\n",
      "26\n",
      "27\n",
      "28\n",
      "29\n",
      "30\n",
      "31\n",
      "32\n",
      "33\n",
      "34\n",
      "35\n",
      "36\n",
      "37\n",
      "38\n",
      "39\n",
      "wgt_c2buy_short\n",
      "0\n",
      "1\n",
      "2\n",
      "3\n",
      "4\n",
      "5\n",
      "6\n",
      "7\n",
      "8\n",
      "9\n",
      "10\n",
      "11\n",
      "12\n",
      "13\n",
      "14\n",
      "start normalizing\n",
      "wgt_c2buy_full\n",
      "0\n",
      "1\n",
      "2\n",
      "3\n",
      "4\n",
      "5\n",
      "6\n",
      "7\n",
      "8\n",
      "9\n",
      "10\n",
      "11\n",
      "12\n",
      "13\n",
      "14\n",
      "15\n",
      "16\n",
      "17\n",
      "18\n",
      "19\n",
      "20\n",
      "21\n",
      "22\n",
      "23\n",
      "24\n",
      "25\n",
      "26\n",
      "27\n",
      "28\n",
      "29\n",
      "wgt_c2buy_6_from_full\n",
      "0\n",
      "1\n",
      "2\n",
      "3\n",
      "4\n",
      "5\n",
      "CPU times: user 1h 14s, sys: 16min 44s, total: 1h 16min 59s\n",
      "Wall time: 33min 29s\n"
     ]
    }
   ],
   "source": [
    "%%time\n",
    "# Import candidates and build features from co-visitation matrixes for the second dataset.\n",
    "\n",
    "df_cand = pd.read_parquet(candidates_cv2)\n",
    "df_cand = otto_common_fe.cand_read_and_reduce(df_cand, 'order', True)\n",
    "df_cand = add_buy2buy_weight(trunked_sessions, buy2buy_matrice_cv, df_cand)\n",
    "df_cand = add_click2buy_short_weight(trunked_sessions, click2buy_short_matrice_cv, df_cand)\n",
    "df_cand = add_click2buy_weight(trunked_sessions, click2buy_matrice_cv, df_cand)\n",
    "df_cand = add_click2buy_weight_6(trunked_sessions, click2buy_matrice_cv, df_cand)"
   ]
  },
  {
   "cell_type": "code",
   "execution_count": 19,
   "id": "481d556f",
   "metadata": {
    "execution": {
     "iopub.execute_input": "2023-03-20T18:06:47.041201Z",
     "iopub.status.busy": "2023-03-20T18:06:47.040754Z",
     "iopub.status.idle": "2023-03-20T18:10:41.958837Z",
     "shell.execute_reply": "2023-03-20T18:10:41.958020Z"
    },
    "papermill": {
     "duration": 234.965271,
     "end_time": "2023-03-20T18:10:41.986797",
     "exception": false,
     "start_time": "2023-03-20T18:06:47.021526",
     "status": "completed"
    },
    "tags": []
   },
   "outputs": [
    {
     "name": "stdout",
     "output_type": "stream",
     "text": [
      "CPU times: user 3min 20s, sys: 54.6 s, total: 4min 14s\n",
      "Wall time: 3min 54s\n"
     ]
    }
   ],
   "source": [
    "%%time\n",
    "# Build all the other features for the second dataset.\n",
    "\n",
    "df_cand = otto_common_fe.add_history_aid_features(trunked_sessions, df_cand, 'order_predictions')\n",
    "df_cand = otto_common_fe.add_history_agg_features(trunked_sessions, df_cand)\n",
    "df_cand = otto_common_fe.add_time_viewed(trunked_sessions, df_cand, 'order_predictions')\n",
    "df_cand = otto_common_fe.add_type_last(trunked_sessions, df_cand, 'order_predictions')\n",
    "df_cand = otto_common_fe.add_daily_averages(counts_before_path_clicks,counts_during_path_clicks, df_cand, 'order_predictions')\n",
    "df_cand = otto_common_fe.add_daily_averages_same_day(counts_during_path_clicks, df_cand, 'order_predictions')\n",
    "df_cand = otto_common_fe.add_weekly_averages(counts_before_path,counts_during_path, df_cand, 'order_predictions')\n",
    "df_cand = add_total_buys(full_sessions, df_cand)\n",
    "df_cand = add_total_orders(full_sessions, df_cand)\n",
    "df_cand = otto_common_fe.add_session_time(trunked_sessions, df_cand)\n",
    "df_cand = otto_common_fe.count_events_3hours(trunked_sessions, df_cand)\n",
    "df_cand = otto_common_fe.add_total_buys_in_session(trunked_sessions, df_cand)\n",
    "df_cand = add_buys_in_session(trunked_sessions, df_cand)\n",
    "df_cand = join_the_2order_conv(all2order_conv_cv, df_cand)\n",
    "df_cand = otto_common_fe.add_clicks_before_buy(click_before_buy_cv, df_cand, 'order_predictions')\n",
    "df_cand = otto_common_fe.add_median_time_viewed(median_time_viewed_cv, df_cand, 'order_predictions')\n",
    "df_cand = otto_common_fe.add_history_similarity(history_path_cv2, df_cand)"
   ]
  },
  {
   "cell_type": "code",
   "execution_count": 20,
   "id": "7d620ed9",
   "metadata": {
    "execution": {
     "iopub.execute_input": "2023-03-20T18:10:42.026301Z",
     "iopub.status.busy": "2023-03-20T18:10:42.025887Z",
     "iopub.status.idle": "2023-03-20T18:10:47.742136Z",
     "shell.execute_reply": "2023-03-20T18:10:47.741229Z"
    },
    "papermill": {
     "duration": 5.737957,
     "end_time": "2023-03-20T18:10:47.744774",
     "exception": false,
     "start_time": "2023-03-20T18:10:42.006817",
     "status": "completed"
    },
    "tags": []
   },
   "outputs": [
    {
     "name": "stdout",
     "output_type": "stream",
     "text": [
      "860.5 MB\n"
     ]
    }
   ],
   "source": [
    "# Check resulting dataframe size and export to file.\n",
    "size = df_cand.memory_usage(deep='True').sum()\n",
    "print(naturalsize(size))\n",
    "df_cand.to_parquet('cv2_features_order.parquet')"
   ]
  },
  {
   "cell_type": "markdown",
   "id": "397e82f9",
   "metadata": {
    "papermill": {
     "duration": 0.018981,
     "end_time": "2023-03-20T18:10:47.783995",
     "exception": false,
     "start_time": "2023-03-20T18:10:47.765014",
     "status": "completed"
    },
    "tags": []
   },
   "source": [
    "## Feature engineering for test dataset"
   ]
  },
  {
   "cell_type": "code",
   "execution_count": 21,
   "id": "1679916a",
   "metadata": {
    "execution": {
     "iopub.execute_input": "2023-03-20T18:10:48.055456Z",
     "iopub.status.busy": "2023-03-20T18:10:48.055018Z",
     "iopub.status.idle": "2023-03-20T18:10:48.062545Z",
     "shell.execute_reply": "2023-03-20T18:10:48.061349Z"
    },
    "papermill": {
     "duration": 0.029866,
     "end_time": "2023-03-20T18:10:48.064778",
     "exception": false,
     "start_time": "2023-03-20T18:10:48.034912",
     "status": "completed"
    },
    "tags": []
   },
   "outputs": [],
   "source": [
    "# Input paths for test dataset.\n",
    "candidates_test = '/kaggle/input/otto-validate-candidates-orders/candidates_order_test.parquet'\n",
    "trunked_sessions = '/kaggle/input/otto-prepare-cv/test.parquet'\n",
    "buy2buy_matrice_test = '/kaggle/input/otto-prepare-candidates-buys/matrix_buy2buy_test.parquet'\n",
    "\n",
    "click2buy_short_matrice_test = '/kaggle/input/otto-click2buy-short/matrix_click2buy_test_short.parquet'\n",
    "click2buy_matrice_test = '/kaggle/input/otto-prepare-candidates-buys/matrix_click2buy_test.parquet'\n",
    "all2order_conv_test = '/kaggle/input/create-counts-buys/2order_conversions_test.parquet'\n",
    "conversions_test = '/kaggle/input/create-counts-buys/conversions_test.parquet'\n",
    "click_before_buy_test = '/kaggle/input/create-counts-buys/clicks_before_buy_test.parquet'\n",
    "median_time_viewed_test = '/kaggle/input/create-counts-for-clicks/time_viewed_agg_test.parquet'\n",
    "history_path_test = '/kaggle/input/create-counts-buys/history_change_test.parquet'\n",
    "full_sessions = '/kaggle/input/otto-prepare-cv/train_full.parquet'\n",
    "\n",
    "counts_before_path = '/kaggle/input/create-counts-buys/daily_counts_orders_test_trunked.parquet'\n",
    "counts_during_path = '/kaggle/input/create-counts-buys/daily_counts_orders_test_full.parquet'\n",
    "counts_before_path_clicks = '/kaggle/input/create-counts-for-clicks/daily_counts_test_full.parquet'\n",
    "counts_during_path_clicks = '/kaggle/input/create-counts-for-clicks/daily_counts_test_trunked.parquet'"
   ]
  },
  {
   "cell_type": "code",
   "execution_count": 22,
   "id": "3b0d0ff0",
   "metadata": {
    "execution": {
     "iopub.execute_input": "2023-03-20T18:10:48.104753Z",
     "iopub.status.busy": "2023-03-20T18:10:48.104334Z",
     "iopub.status.idle": "2023-03-20T20:30:24.645929Z",
     "shell.execute_reply": "2023-03-20T20:30:24.643883Z"
    },
    "papermill": {
     "duration": 8376.597371,
     "end_time": "2023-03-20T20:30:24.681196",
     "exception": false,
     "start_time": "2023-03-20T18:10:48.083825",
     "status": "completed"
    },
    "tags": []
   },
   "outputs": [
    {
     "name": "stdout",
     "output_type": "stream",
     "text": [
      "start normalizing\n",
      "wgt_buy2buy\n",
      "0\n",
      "1\n",
      "2\n",
      "3\n",
      "4\n",
      "5\n",
      "6\n",
      "7\n",
      "8\n",
      "9\n",
      "10\n",
      "11\n",
      "12\n",
      "13\n",
      "14\n",
      "15\n",
      "16\n",
      "17\n",
      "18\n",
      "19\n",
      "20\n",
      "21\n",
      "22\n",
      "23\n",
      "24\n",
      "25\n",
      "26\n",
      "27\n",
      "28\n",
      "29\n",
      "30\n",
      "31\n",
      "32\n",
      "33\n",
      "34\n",
      "35\n",
      "36\n",
      "37\n",
      "38\n",
      "39\n",
      "wgt_c2buy_short\n",
      "0\n",
      "1\n",
      "2\n",
      "3\n",
      "4\n",
      "5\n",
      "6\n",
      "7\n",
      "8\n",
      "9\n",
      "10\n",
      "11\n",
      "12\n",
      "13\n",
      "14\n",
      "start normalizing\n",
      "wgt_c2buy_full\n",
      "0\n",
      "1\n",
      "2\n",
      "3\n",
      "4\n",
      "5\n",
      "6\n",
      "7\n",
      "8\n",
      "9\n",
      "10\n",
      "11\n",
      "12\n",
      "13\n",
      "14\n",
      "15\n",
      "16\n",
      "17\n",
      "18\n",
      "19\n",
      "20\n",
      "21\n",
      "22\n",
      "23\n",
      "24\n",
      "25\n",
      "26\n",
      "27\n",
      "28\n",
      "29\n",
      "wgt_c2buy_6_from_full\n",
      "0\n",
      "1\n",
      "2\n",
      "3\n",
      "4\n",
      "5\n",
      "start normalizing\n",
      "wgt_buy2buy\n",
      "0\n",
      "1\n",
      "2\n",
      "3\n",
      "4\n",
      "5\n",
      "6\n",
      "7\n",
      "8\n",
      "9\n",
      "10\n",
      "11\n",
      "12\n",
      "13\n",
      "14\n",
      "15\n",
      "16\n",
      "17\n",
      "18\n",
      "19\n",
      "20\n",
      "21\n",
      "22\n",
      "23\n",
      "24\n",
      "25\n",
      "26\n",
      "27\n",
      "28\n",
      "29\n",
      "30\n",
      "31\n",
      "32\n",
      "33\n",
      "34\n",
      "35\n",
      "36\n",
      "37\n",
      "38\n",
      "39\n",
      "wgt_c2buy_short\n",
      "0\n",
      "1\n",
      "2\n",
      "3\n",
      "4\n",
      "5\n",
      "6\n",
      "7\n",
      "8\n",
      "9\n",
      "10\n",
      "11\n",
      "12\n",
      "13\n",
      "14\n",
      "start normalizing\n",
      "wgt_c2buy_full\n",
      "0\n",
      "1\n",
      "2\n",
      "3\n",
      "4\n",
      "5\n",
      "6\n",
      "7\n",
      "8\n",
      "9\n",
      "10\n",
      "11\n",
      "12\n",
      "13\n",
      "14\n",
      "15\n",
      "16\n",
      "17\n",
      "18\n",
      "19\n",
      "20\n",
      "21\n",
      "22\n",
      "23\n",
      "24\n",
      "25\n",
      "26\n",
      "27\n",
      "28\n",
      "29\n",
      "wgt_c2buy_6_from_full\n",
      "0\n",
      "1\n",
      "2\n",
      "3\n",
      "4\n",
      "5\n",
      "CPU times: user 3h 34min 14s, sys: 1h 6min 40s, total: 4h 40min 54s\n",
      "Wall time: 2h 19min 36s\n"
     ]
    }
   ],
   "source": [
    "%%time\n",
    "# Splits test dataset into 2 chunks and builds features for both chunks.\n",
    "n_splits=2\n",
    "\n",
    "for i in range(n_splits):\n",
    "    df = pd.read_parquet(candidates_test)\n",
    "    df_cand = otto_common.divide_df_by_column(df, n_splits, i, 'session')\n",
    "    del df\n",
    "    gc.collect()\n",
    "    df_cand = otto_common_fe.cand_read_and_reduce(df_cand, 'order', False)\n",
    "    df_cand = add_buy2buy_weight(trunked_sessions, buy2buy_matrice_test, df_cand)\n",
    "    df_cand = add_click2buy_short_weight(trunked_sessions, click2buy_short_matrice_test, df_cand)\n",
    "    df_cand = add_click2buy_weight(trunked_sessions, click2buy_matrice_test, df_cand)\n",
    "    df_cand = add_click2buy_weight_6(trunked_sessions, click2buy_matrice_test, df_cand)\n",
    "        \n",
    "    df_cand = otto_common_fe.add_history_aid_features(trunked_sessions, df_cand, 'order_predictions')\n",
    "    df_cand = otto_common_fe.add_history_agg_features(trunked_sessions, df_cand)\n",
    "    df_cand = otto_common_fe.add_time_viewed(trunked_sessions, df_cand, 'order_predictions')\n",
    "    df_cand = otto_common_fe.add_type_last(trunked_sessions, df_cand, 'order_predictions')\n",
    "    df_cand = otto_common_fe.add_daily_averages(counts_before_path_clicks,counts_during_path_clicks, df_cand, 'order_predictions')\n",
    "    df_cand = otto_common_fe.add_daily_averages_same_day(counts_during_path_clicks, df_cand, 'order_predictions')\n",
    "    df_cand = otto_common_fe.add_weekly_averages(counts_before_path,counts_during_path, df_cand, 'order_predictions')\n",
    "    df_cand = add_total_buys(full_sessions, df_cand)\n",
    "    df_cand = add_total_orders(full_sessions, df_cand)\n",
    "    df_cand = otto_common_fe.add_session_time(trunked_sessions, df_cand)\n",
    "    df_cand = otto_common_fe.count_events_3hours(trunked_sessions, df_cand)\n",
    "    df_cand = otto_common_fe.add_total_buys_in_session(trunked_sessions, df_cand)\n",
    "    df_cand = add_buys_in_session(trunked_sessions, df_cand)\n",
    "    df_cand = join_the_2order_conv(all2order_conv_test, df_cand)\n",
    "    df_cand = otto_common_fe.add_clicks_before_buy(click_before_buy_test, df_cand, 'order_predictions')\n",
    "    df_cand = otto_common_fe.add_median_time_viewed(median_time_viewed_test, df_cand, 'order_predictions')\n",
    "    df_cand = otto_common_fe.add_history_similarity(history_path_test, df_cand)\n",
    "    string_i = 'test_features_order_part_' + str(i) + '.parquet'\n",
    "    df_cand.to_parquet(string_i)"
   ]
  }
 ],
 "metadata": {
  "kernelspec": {
   "display_name": "Python 3",
   "language": "python",
   "name": "python3"
  },
  "language_info": {
   "codemirror_mode": {
    "name": "ipython",
    "version": 3
   },
   "file_extension": ".py",
   "mimetype": "text/x-python",
   "name": "python",
   "nbconvert_exporter": "python",
   "pygments_lexer": "ipython3",
   "version": "3.7.12"
  },
  "papermill": {
   "default_parameters": {},
   "duration": 12744.349665,
   "end_time": "2023-03-20T20:30:26.977321",
   "environment_variables": {},
   "exception": null,
   "input_path": "__notebook__.ipynb",
   "output_path": "__notebook__.ipynb",
   "parameters": {},
   "start_time": "2023-03-20T16:58:02.627656",
   "version": "2.3.4"
  }
 },
 "nbformat": 4,
 "nbformat_minor": 5
}
