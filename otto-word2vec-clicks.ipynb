{
 "cells": [
  {
   "cell_type": "markdown",
   "id": "9b2e92f1",
   "metadata": {
    "papermill": {
     "duration": 0.004351,
     "end_time": "2023-03-20T13:22:21.741010",
     "exception": false,
     "start_time": "2023-03-20T13:22:21.736659",
     "status": "completed"
    },
    "tags": []
   },
   "source": [
    "# W2vec model for clicks\n",
    "\n",
    "In this notebook, the known sessions from all the history are used to build a w2vec model. Information about event type and event time is removed, so the sequence of aids is the only information kept. As generation of a w2vec model takes time (more than two and a half hours for both cross-validation and test) it is done in a separate notebook. For the OTTO project, two w2vec models are build with slightly different parameters. This model uses a shorter window (window = 3) and is only used to generate features for the clicks model, while another w2vec model with window=4 is used to build features both for carts and orders models.\n",
    "\n",
    "Hash function is the same for both models, it has been moved to otto_common, as it is used in every notebook that somehow uses any of the models.\n",
    "## Imports and definitions"
   ]
  },
  {
   "cell_type": "code",
   "execution_count": 1,
   "id": "b230409b",
   "metadata": {
    "execution": {
     "iopub.execute_input": "2023-03-20T13:22:21.750268Z",
     "iopub.status.busy": "2023-03-20T13:22:21.749695Z",
     "iopub.status.idle": "2023-03-20T13:22:23.371639Z",
     "shell.execute_reply": "2023-03-20T13:22:23.369483Z"
    },
    "papermill": {
     "duration": 1.630638,
     "end_time": "2023-03-20T13:22:23.375166",
     "exception": false,
     "start_time": "2023-03-20T13:22:21.744528",
     "status": "completed"
    },
    "tags": []
   },
   "outputs": [],
   "source": [
    "import numpy as np # linear algebra\n",
    "import pandas as pd # data processing, CSV file I/O (e.g. pd.read_csv)\n",
    "\n",
    "import gc\n",
    "from gensim.test.utils import common_texts\n",
    "from gensim.models import Word2Vec\n",
    "\n",
    "# functions and classes common for several notebooks of current project\n",
    "import otto_common"
   ]
  },
  {
   "cell_type": "code",
   "execution_count": 2,
   "id": "e1853df3",
   "metadata": {
    "execution": {
     "iopub.execute_input": "2023-03-20T13:22:23.384786Z",
     "iopub.status.busy": "2023-03-20T13:22:23.384139Z",
     "iopub.status.idle": "2023-03-20T13:22:39.779803Z",
     "shell.execute_reply": "2023-03-20T13:22:39.778046Z"
    },
    "papermill": {
     "duration": 16.404498,
     "end_time": "2023-03-20T13:22:39.783336",
     "exception": false,
     "start_time": "2023-03-20T13:22:23.378838",
     "status": "completed"
    },
    "tags": []
   },
   "outputs": [
    {
     "name": "stdout",
     "output_type": "stream",
     "text": [
      "Collecting polars\r\n",
      "  Downloading polars-0.16.14-cp37-abi3-manylinux_2_17_x86_64.manylinux2014_x86_64.whl (16.2 MB)\r\n",
      "\u001b[2K     \u001b[90m━━━━━━━━━━━━━━━━━━━━━━━━━━━━━━━━━━━━━━━━\u001b[0m \u001b[32m16.2/16.2 MB\u001b[0m \u001b[31m41.8 MB/s\u001b[0m eta \u001b[36m0:00:00\u001b[0m\r\n",
      "\u001b[?25hRequirement already satisfied: typing_extensions>=4.0.1 in /opt/conda/lib/python3.7/site-packages (from polars) (4.1.1)\r\n",
      "Installing collected packages: polars\r\n",
      "Successfully installed polars-0.16.14\r\n",
      "\u001b[33mWARNING: Running pip as the 'root' user can result in broken permissions and conflicting behaviour with the system package manager. It is recommended to use a virtual environment instead: https://pip.pypa.io/warnings/venv\u001b[0m\u001b[33m\r\n",
      "\u001b[0m"
     ]
    }
   ],
   "source": [
    "!pip install polars\n",
    "import polars as pl"
   ]
  },
  {
   "cell_type": "code",
   "execution_count": 3,
   "id": "8acda033",
   "metadata": {
    "execution": {
     "iopub.execute_input": "2023-03-20T13:22:39.795472Z",
     "iopub.status.busy": "2023-03-20T13:22:39.794931Z",
     "iopub.status.idle": "2023-03-20T13:22:39.802414Z",
     "shell.execute_reply": "2023-03-20T13:22:39.800934Z"
    },
    "papermill": {
     "duration": 0.0161,
     "end_time": "2023-03-20T13:22:39.804831",
     "exception": false,
     "start_time": "2023-03-20T13:22:39.788731",
     "status": "completed"
    },
    "tags": []
   },
   "outputs": [],
   "source": [
    "def prepare_sentences(sessions_path):\n",
    "    df = pl.read_parquet(sessions_path)\n",
    "    df = df.groupby('session').agg(pl.col('aid').alias('sentence'))\n",
    "    return df['sentence'].to_list()"
   ]
  },
  {
   "cell_type": "markdown",
   "id": "ff80f7a6",
   "metadata": {
    "papermill": {
     "duration": 0.003784,
     "end_time": "2023-03-20T13:22:39.812826",
     "exception": false,
     "start_time": "2023-03-20T13:22:39.809042",
     "status": "completed"
    },
    "tags": []
   },
   "source": [
    "## W2vec model for cross-validation dataset"
   ]
  },
  {
   "cell_type": "code",
   "execution_count": 4,
   "id": "957bf728",
   "metadata": {
    "execution": {
     "iopub.execute_input": "2023-03-20T13:22:39.823491Z",
     "iopub.status.busy": "2023-03-20T13:22:39.822970Z",
     "iopub.status.idle": "2023-03-20T13:23:46.812975Z",
     "shell.execute_reply": "2023-03-20T13:23:46.811431Z"
    },
    "papermill": {
     "duration": 66.999646,
     "end_time": "2023-03-20T13:23:46.816556",
     "exception": false,
     "start_time": "2023-03-20T13:22:39.816910",
     "status": "completed"
    },
    "tags": []
   },
   "outputs": [],
   "source": [
    "# Load the sessions available for cross-validation and transform them into sequence of aids.\n",
    "sessions_path_cv = '/kaggle/input/otto-prepare-cv/cv_train.parquet'\n",
    "\n",
    "sentences = prepare_sentences(sessions_path_cv)"
   ]
  },
  {
   "cell_type": "code",
   "execution_count": 5,
   "id": "872fb215",
   "metadata": {
    "execution": {
     "iopub.execute_input": "2023-03-20T13:23:46.827842Z",
     "iopub.status.busy": "2023-03-20T13:23:46.826837Z",
     "iopub.status.idle": "2023-03-20T14:52:11.570049Z",
     "shell.execute_reply": "2023-03-20T14:52:11.568844Z"
    },
    "papermill": {
     "duration": 5304.756263,
     "end_time": "2023-03-20T14:52:11.577260",
     "exception": false,
     "start_time": "2023-03-20T13:23:46.820997",
     "status": "completed"
    },
    "tags": []
   },
   "outputs": [
    {
     "name": "stdout",
     "output_type": "stream",
     "text": [
      "CPU times: user 5h 33min 7s, sys: 31.1 s, total: 5h 33min 38s\n",
      "Wall time: 1h 28min 24s\n"
     ]
    },
    {
     "data": {
      "text/plain": [
       "0"
      ]
     },
     "execution_count": 5,
     "metadata": {},
     "output_type": "execute_result"
    }
   ],
   "source": [
    "%%time\n",
    "# Train and save the w2vec model for cross-validation.\n",
    "w2vec = Word2Vec(sentences=sentences, vector_size= 64, window = 3, negative = 8, ns_exponent = 0.2, sg = 1,\n",
    "                 min_count=1, workers=4, seed = 1, hashfxn=otto_common.simple_hash_function)\n",
    "\n",
    "w2vec.save(\"word2vec_cv.wordvectors\")\n",
    "del sentences, w2vec; gc.collect() "
   ]
  },
  {
   "cell_type": "markdown",
   "id": "b7d5d448",
   "metadata": {
    "papermill": {
     "duration": 0.003939,
     "end_time": "2023-03-20T14:52:11.585564",
     "exception": false,
     "start_time": "2023-03-20T14:52:11.581625",
     "status": "completed"
    },
    "tags": []
   },
   "source": [
    "## W2vec model for test dataset"
   ]
  },
  {
   "cell_type": "code",
   "execution_count": 6,
   "id": "4e750de0",
   "metadata": {
    "execution": {
     "iopub.execute_input": "2023-03-20T14:52:11.596273Z",
     "iopub.status.busy": "2023-03-20T14:52:11.595754Z",
     "iopub.status.idle": "2023-03-20T14:53:49.418536Z",
     "shell.execute_reply": "2023-03-20T14:53:49.416347Z"
    },
    "papermill": {
     "duration": 97.834954,
     "end_time": "2023-03-20T14:53:49.424750",
     "exception": false,
     "start_time": "2023-03-20T14:52:11.589796",
     "status": "completed"
    },
    "tags": []
   },
   "outputs": [],
   "source": [
    "# Load the sessions available for test (this means full data) and transform them into sequence of aids.\n",
    "sessions_path_test = '/kaggle/input/otto-prepare-cv/train_full.parquet'\n",
    "\n",
    "sentences = prepare_sentences(sessions_path_test)"
   ]
  },
  {
   "cell_type": "code",
   "execution_count": 7,
   "id": "86417aa0",
   "metadata": {
    "execution": {
     "iopub.execute_input": "2023-03-20T14:53:49.438769Z",
     "iopub.status.busy": "2023-03-20T14:53:49.438248Z",
     "iopub.status.idle": "2023-03-20T16:56:48.325574Z",
     "shell.execute_reply": "2023-03-20T16:56:48.323124Z"
    },
    "papermill": {
     "duration": 7378.903263,
     "end_time": "2023-03-20T16:56:48.334790",
     "exception": false,
     "start_time": "2023-03-20T14:53:49.431527",
     "status": "completed"
    },
    "tags": []
   },
   "outputs": [
    {
     "name": "stdout",
     "output_type": "stream",
     "text": [
      "CPU times: user 7h 46min 35s, sys: 41.8 s, total: 7h 47min 17s\n",
      "Wall time: 2h 2min 58s\n"
     ]
    }
   ],
   "source": [
    "%%time\n",
    "# Train and save the w2vec model for test.\n",
    "\n",
    "w2vec_test = Word2Vec(sentences=sentences, vector_size= 64, window = 3, negative = 8, ns_exponent = 0.2, sg = 1,\n",
    "                 min_count=1, workers=4, seed = 1, hashfxn=otto_common.simple_hash_function)\n",
    "w2vec_test.save(\"word2vec_test.wordvectors\")"
   ]
  }
 ],
 "metadata": {
  "kernelspec": {
   "display_name": "Python 3",
   "language": "python",
   "name": "python3"
  },
  "language_info": {
   "codemirror_mode": {
    "name": "ipython",
    "version": 3
   },
   "file_extension": ".py",
   "mimetype": "text/x-python",
   "name": "python",
   "nbconvert_exporter": "python",
   "pygments_lexer": "ipython3",
   "version": "3.7.12"
  },
  "papermill": {
   "default_parameters": {},
   "duration": 12883.739932,
   "end_time": "2023-03-20T16:56:52.399785",
   "environment_variables": {},
   "exception": null,
   "input_path": "__notebook__.ipynb",
   "output_path": "__notebook__.ipynb",
   "parameters": {},
   "start_time": "2023-03-20T13:22:08.659853",
   "version": "2.3.4"
  }
 },
 "nbformat": 4,
 "nbformat_minor": 5
}
