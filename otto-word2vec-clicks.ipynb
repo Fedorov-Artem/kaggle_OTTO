{
 "cells": [
  {
   "cell_type": "markdown",
   "id": "677c8b9f",
   "metadata": {
    "papermill": {
     "duration": 0.003389,
     "end_time": "2023-03-17T22:06:16.603101",
     "exception": false,
     "start_time": "2023-03-17T22:06:16.599712",
     "status": "completed"
    },
    "tags": []
   },
   "source": [
    "# W2vec model for clicks\n",
    "\n",
    "Here, the known sessions from all the history are used to build a w2vec model. Information about event type and event time is removed, so the sequence of aids is the only information kept. As generation of a w2vec model takes time (about one hour for the cross-validation dataset and about 25% more for the test dataset) it is done in a separate notebook. For the OTTO project, two w2vec models are build with slightly different parameters. This model uses a shorter window (window = 3) and is only used to generate features for the clicks model, while another with window=4 is used to build features both for carts and orders models.\n",
    "\n",
    "Hash function is the same for both models, it has been moved to otto_common, as it is used in every notebook that somehow uses any of the models."
   ]
  },
  {
   "cell_type": "markdown",
   "id": "24299192",
   "metadata": {
    "papermill": {
     "duration": 0.002448,
     "end_time": "2023-03-17T22:06:16.608301",
     "exception": false,
     "start_time": "2023-03-17T22:06:16.605853",
     "status": "completed"
    },
    "tags": []
   },
   "source": [
    "## Imports and definition"
   ]
  },
  {
   "cell_type": "code",
   "execution_count": 1,
   "id": "2b7dedb4",
   "metadata": {
    "execution": {
     "iopub.execute_input": "2023-03-17T22:06:16.615734Z",
     "iopub.status.busy": "2023-03-17T22:06:16.615102Z",
     "iopub.status.idle": "2023-03-17T22:06:17.770719Z",
     "shell.execute_reply": "2023-03-17T22:06:17.769835Z"
    },
    "papermill": {
     "duration": 1.162064,
     "end_time": "2023-03-17T22:06:17.773000",
     "exception": false,
     "start_time": "2023-03-17T22:06:16.610936",
     "status": "completed"
    },
    "tags": []
   },
   "outputs": [],
   "source": [
    "import numpy as np # linear algebra\n",
    "import pandas as pd # data processing, CSV file I/O (e.g. pd.read_csv)\n",
    "\n",
    "import gc\n",
    "from gensim.test.utils import common_texts\n",
    "from gensim.models import Word2Vec\n",
    "\n",
    "# functions and classes common for several notebooks of current project\n",
    "import otto_common"
   ]
  },
  {
   "cell_type": "code",
   "execution_count": 2,
   "id": "ce7b7a30",
   "metadata": {
    "execution": {
     "iopub.execute_input": "2023-03-17T22:06:17.779654Z",
     "iopub.status.busy": "2023-03-17T22:06:17.779368Z",
     "iopub.status.idle": "2023-03-17T22:06:29.182854Z",
     "shell.execute_reply": "2023-03-17T22:06:29.181828Z"
    },
    "papermill": {
     "duration": 11.409624,
     "end_time": "2023-03-17T22:06:29.185443",
     "exception": false,
     "start_time": "2023-03-17T22:06:17.775819",
     "status": "completed"
    },
    "tags": []
   },
   "outputs": [
    {
     "name": "stdout",
     "output_type": "stream",
     "text": [
      "Collecting polars\r\n",
      "  Downloading polars-0.16.14-cp37-abi3-manylinux_2_17_x86_64.manylinux2014_x86_64.whl (16.2 MB)\r\n",
      "\u001b[2K     \u001b[90m━━━━━━━━━━━━━━━━━━━━━━━━━━━━━━━━━━━━━━━━\u001b[0m \u001b[32m16.2/16.2 MB\u001b[0m \u001b[31m70.2 MB/s\u001b[0m eta \u001b[36m0:00:00\u001b[0m\r\n",
      "\u001b[?25hRequirement already satisfied: typing_extensions>=4.0.1 in /opt/conda/lib/python3.7/site-packages (from polars) (4.1.1)\r\n",
      "Installing collected packages: polars\r\n",
      "Successfully installed polars-0.16.14\r\n",
      "\u001b[33mWARNING: Running pip as the 'root' user can result in broken permissions and conflicting behaviour with the system package manager. It is recommended to use a virtual environment instead: https://pip.pypa.io/warnings/venv\u001b[0m\u001b[33m\r\n",
      "\u001b[0m"
     ]
    }
   ],
   "source": [
    "!pip install polars\n",
    "import polars as pl"
   ]
  },
  {
   "cell_type": "code",
   "execution_count": 3,
   "id": "965e3c0a",
   "metadata": {
    "execution": {
     "iopub.execute_input": "2023-03-17T22:06:29.193898Z",
     "iopub.status.busy": "2023-03-17T22:06:29.193534Z",
     "iopub.status.idle": "2023-03-17T22:06:29.199731Z",
     "shell.execute_reply": "2023-03-17T22:06:29.198601Z"
    },
    "papermill": {
     "duration": 0.013231,
     "end_time": "2023-03-17T22:06:29.202172",
     "exception": false,
     "start_time": "2023-03-17T22:06:29.188941",
     "status": "completed"
    },
    "tags": []
   },
   "outputs": [],
   "source": [
    "def prepare_sentences(sessions_path):\n",
    "    df = pl.read_parquet(sessions_path)\n",
    "    df = df.groupby('session').agg(pl.col('aid').alias('sentence'))\n",
    "    return df['sentence'].to_list()"
   ]
  },
  {
   "cell_type": "markdown",
   "id": "1b7882eb",
   "metadata": {
    "papermill": {
     "duration": 0.002912,
     "end_time": "2023-03-17T22:06:29.208485",
     "exception": false,
     "start_time": "2023-03-17T22:06:29.205573",
     "status": "completed"
    },
    "tags": []
   },
   "source": [
    "## W2vec model for cross-validation dataset"
   ]
  },
  {
   "cell_type": "code",
   "execution_count": 4,
   "id": "8343cb6c",
   "metadata": {
    "execution": {
     "iopub.execute_input": "2023-03-17T22:06:29.216518Z",
     "iopub.status.busy": "2023-03-17T22:06:29.216130Z",
     "iopub.status.idle": "2023-03-17T22:07:07.843560Z",
     "shell.execute_reply": "2023-03-17T22:07:07.842547Z"
    },
    "papermill": {
     "duration": 38.634203,
     "end_time": "2023-03-17T22:07:07.845800",
     "exception": false,
     "start_time": "2023-03-17T22:06:29.211597",
     "status": "completed"
    },
    "tags": []
   },
   "outputs": [],
   "source": [
    "# Load the sessions aviable for cross-validation and fransform them into sequense of aids.\n",
    "sessions_path_cv = '/kaggle/input/otto-prepare-cv/cv_train.parquet'\n",
    "\n",
    "sentences = prepare_sentences(sessions_path_cv)"
   ]
  },
  {
   "cell_type": "code",
   "execution_count": 5,
   "id": "44f1612b",
   "metadata": {
    "execution": {
     "iopub.execute_input": "2023-03-17T22:07:07.854207Z",
     "iopub.status.busy": "2023-03-17T22:07:07.853480Z",
     "iopub.status.idle": "2023-03-17T23:04:06.029924Z",
     "shell.execute_reply": "2023-03-17T23:04:06.028687Z"
    },
    "papermill": {
     "duration": 3418.185768,
     "end_time": "2023-03-17T23:04:06.034947",
     "exception": false,
     "start_time": "2023-03-17T22:07:07.849179",
     "status": "completed"
    },
    "tags": []
   },
   "outputs": [
    {
     "name": "stdout",
     "output_type": "stream",
     "text": [
      "CPU times: user 3h 36min 44s, sys: 16.9 s, total: 3h 37min 1s\n",
      "Wall time: 56min 58s\n"
     ]
    },
    {
     "data": {
      "text/plain": [
       "0"
      ]
     },
     "execution_count": 5,
     "metadata": {},
     "output_type": "execute_result"
    }
   ],
   "source": [
    "%%time\n",
    "# Use standard functions to build and save the w2vec model for cross-validation.\n",
    "\n",
    "w2vec = Word2Vec(sentences=sentences, vector_size= 64, window = 3, negative = 8, ns_exponent = 0.2, sg = 1,\n",
    "                 min_count=1, workers=4, seed = 1, hashfxn=otto_common.simple_hash_function)\n",
    "\n",
    "w2vec.save(\"word2vec_cv.wordvectors\")\n",
    "del sentences, w2vec; gc.collect() "
   ]
  },
  {
   "cell_type": "markdown",
   "id": "3d924fb9",
   "metadata": {
    "papermill": {
     "duration": 0.003089,
     "end_time": "2023-03-17T23:04:06.041525",
     "exception": false,
     "start_time": "2023-03-17T23:04:06.038436",
     "status": "completed"
    },
    "tags": []
   },
   "source": [
    "## W2vec model for test dataset"
   ]
  },
  {
   "cell_type": "code",
   "execution_count": 6,
   "id": "3d3db545",
   "metadata": {
    "execution": {
     "iopub.execute_input": "2023-03-17T23:04:06.049820Z",
     "iopub.status.busy": "2023-03-17T23:04:06.049469Z",
     "iopub.status.idle": "2023-03-17T23:05:20.467180Z",
     "shell.execute_reply": "2023-03-17T23:05:20.465812Z"
    },
    "papermill": {
     "duration": 74.426826,
     "end_time": "2023-03-17T23:05:20.471701",
     "exception": false,
     "start_time": "2023-03-17T23:04:06.044875",
     "status": "completed"
    },
    "tags": []
   },
   "outputs": [],
   "source": [
    "# Load the sessions aviable for test (this means full data) and fransform them into sequense of aids.\n",
    "sessions_path_test = '/kaggle/input/otto-prepare-cv/train_full.parquet'\n",
    "\n",
    "sentences = prepare_sentences(sessions_path_test)"
   ]
  },
  {
   "cell_type": "code",
   "execution_count": 7,
   "id": "f9ef9446",
   "metadata": {
    "execution": {
     "iopub.execute_input": "2023-03-17T23:05:20.482570Z",
     "iopub.status.busy": "2023-03-17T23:05:20.482145Z",
     "iopub.status.idle": "2023-03-18T00:41:36.069374Z",
     "shell.execute_reply": "2023-03-18T00:41:36.067458Z"
    },
    "papermill": {
     "duration": 5775.603502,
     "end_time": "2023-03-18T00:41:36.080579",
     "exception": false,
     "start_time": "2023-03-17T23:05:20.477077",
     "status": "completed"
    },
    "tags": []
   },
   "outputs": [
    {
     "name": "stdout",
     "output_type": "stream",
     "text": [
      "CPU times: user 6h 9min 28s, sys: 24.4 s, total: 6h 9min 52s\n",
      "Wall time: 1h 36min 15s\n"
     ]
    }
   ],
   "source": [
    "%%time\n",
    "# Use standard functions to build and save the w2vec model for test.\n",
    "\n",
    "w2vec_test = Word2Vec(sentences=sentences, vector_size= 64, window = 3, negative = 8, ns_exponent = 0.2, sg = 1,\n",
    "                 min_count=1, workers=4, seed = 1, hashfxn=otto_common.simple_hash_function)\n",
    "w2vec_test.save(\"word2vec_test.wordvectors\")"
   ]
  }
 ],
 "metadata": {
  "kernelspec": {
   "display_name": "Python 3",
   "language": "python",
   "name": "python3"
  },
  "language_info": {
   "codemirror_mode": {
    "name": "ipython",
    "version": 3
   },
   "file_extension": ".py",
   "mimetype": "text/x-python",
   "name": "python",
   "nbconvert_exporter": "python",
   "pygments_lexer": "ipython3",
   "version": "3.7.12"
  },
  "papermill": {
   "default_parameters": {},
   "duration": 9330.81908,
   "end_time": "2023-03-18T00:41:39.434445",
   "environment_variables": {},
   "exception": null,
   "input_path": "__notebook__.ipynb",
   "output_path": "__notebook__.ipynb",
   "parameters": {},
   "start_time": "2023-03-17T22:06:08.615365",
   "version": "2.3.4"
  }
 },
 "nbformat": 4,
 "nbformat_minor": 5
}
