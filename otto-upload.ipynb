{
 "cells": [
  {
   "cell_type": "markdown",
   "id": "b1a7e48e",
   "metadata": {
    "papermill": {
     "duration": 0.005647,
     "end_time": "2023-03-23T13:02:40.509634",
     "exception": false,
     "start_time": "2023-03-23T13:02:40.503987",
     "status": "completed"
    },
    "tags": []
   },
   "source": [
    "# OTTO Upload\n",
    "This notebook was used to upload results to the kaggle system. Depending on boolean variables load_clicks, load_carts and load_orders, it can load results for one or all of the models. In case of uploading results for a single model, slots for other model's predictions are filled by values from sample submission file, provided by competition organizers.\n",
    "\n",
    "This notebook was also used to check predictions made at candidate generation stage. Code used to process the top20 generated candidate is kept here, but is marked as comments.\n",
    "## Imports and definitions"
   ]
  },
  {
   "cell_type": "code",
   "execution_count": 1,
   "id": "b98240db",
   "metadata": {
    "_cell_guid": "b1076dfc-b9ad-4769-8c92-a6c4dae69d19",
    "_uuid": "8f2839f25d086af736a60e9eeb907d3b93b6e0e5",
    "execution": {
     "iopub.execute_input": "2023-03-23T13:02:40.520218Z",
     "iopub.status.busy": "2023-03-23T13:02:40.519714Z",
     "iopub.status.idle": "2023-03-23T13:02:40.530242Z",
     "shell.execute_reply": "2023-03-23T13:02:40.529113Z"
    },
    "papermill": {
     "duration": 0.018995,
     "end_time": "2023-03-23T13:02:40.532968",
     "exception": false,
     "start_time": "2023-03-23T13:02:40.513973",
     "status": "completed"
    },
    "tags": []
   },
   "outputs": [],
   "source": [
    "import numpy as np\n",
    "import pandas as pd"
   ]
  },
  {
   "cell_type": "code",
   "execution_count": 2,
   "id": "c787cc06",
   "metadata": {
    "execution": {
     "iopub.execute_input": "2023-03-23T13:02:40.543227Z",
     "iopub.status.busy": "2023-03-23T13:02:40.542736Z",
     "iopub.status.idle": "2023-03-23T13:02:40.549319Z",
     "shell.execute_reply": "2023-03-23T13:02:40.548030Z"
    },
    "papermill": {
     "duration": 0.014349,
     "end_time": "2023-03-23T13:02:40.551608",
     "exception": false,
     "start_time": "2023-03-23T13:02:40.537259",
     "status": "completed"
    },
    "tags": []
   },
   "outputs": [],
   "source": [
    "# Transform the session column to a format, required by organizers.\n",
    "def prepare_2_upload(df, type_string, prediction_column):\n",
    "    df = df.reset_index()\n",
    "    df['session_type'] = df['session'].apply(str)\n",
    "    df['session_type'] = df['session_type'] + type_string\n",
    "    df['labels'] = df[prediction_column]\n",
    "    df = df[['session_type', 'labels']]\n",
    "    return df"
   ]
  },
  {
   "cell_type": "markdown",
   "id": "29fcd628",
   "metadata": {
    "papermill": {
     "duration": 0.003747,
     "end_time": "2023-03-23T13:02:40.559294",
     "exception": false,
     "start_time": "2023-03-23T13:02:40.555547",
     "status": "completed"
    },
    "tags": []
   },
   "source": [
    "## Imports from candidate generation notebooks."
   ]
  },
  {
   "cell_type": "code",
   "execution_count": 3,
   "id": "96334295",
   "metadata": {
    "execution": {
     "iopub.execute_input": "2023-03-23T13:02:40.569535Z",
     "iopub.status.busy": "2023-03-23T13:02:40.568549Z",
     "iopub.status.idle": "2023-03-23T13:02:40.578511Z",
     "shell.execute_reply": "2023-03-23T13:02:40.577334Z"
    },
    "papermill": {
     "duration": 0.017585,
     "end_time": "2023-03-23T13:02:40.581020",
     "exception": false,
     "start_time": "2023-03-23T13:02:40.563435",
     "status": "completed"
    },
    "tags": []
   },
   "outputs": [
    {
     "data": {
      "text/plain": [
       "'\\n# load candidates\\ndf_candidates = pd.read_parquet(\\'/kaggle/input/otto-click-candidates-validation/candidates_test_20.parquet\\')\\ndf_candidates = df_candidates.explode(\\'click_predictions\\').reset_index(drop=True)\\ndf_candidates[\\'click_predictions\\'] = df_candidates[\\'click_predictions\\'].apply(str)\\ndf_candidates = (df_candidates.groupby(\\'session\\').agg({\\'click_predictions\\': lambda x: \" \".join(x)}))\\ndf_candidates = prepare_2_upload(df_candidates, \\'_clicks\\', \\'click_predictions\\')\\n'"
      ]
     },
     "execution_count": 3,
     "metadata": {},
     "output_type": "execute_result"
    }
   ],
   "source": [
    "'''\n",
    "# load candidates\n",
    "df_candidates = pd.read_parquet('/kaggle/input/otto-click-candidates-validation/candidates_test_20.parquet')\n",
    "df_candidates = df_candidates.explode('click_predictions').reset_index(drop=True)\n",
    "df_candidates['click_predictions'] = df_candidates['click_predictions'].apply(str)\n",
    "df_candidates = (df_candidates.groupby('session').agg({'click_predictions': lambda x: \" \".join(x)}))\n",
    "df_candidates = prepare_2_upload(df_candidates, '_clicks', 'click_predictions')\n",
    "'''"
   ]
  },
  {
   "cell_type": "code",
   "execution_count": 4,
   "id": "8fa9f250",
   "metadata": {
    "execution": {
     "iopub.execute_input": "2023-03-23T13:02:40.591434Z",
     "iopub.status.busy": "2023-03-23T13:02:40.590775Z",
     "iopub.status.idle": "2023-03-23T13:02:40.597459Z",
     "shell.execute_reply": "2023-03-23T13:02:40.596512Z"
    },
    "papermill": {
     "duration": 0.014308,
     "end_time": "2023-03-23T13:02:40.599544",
     "exception": false,
     "start_time": "2023-03-23T13:02:40.585236",
     "status": "completed"
    },
    "tags": []
   },
   "outputs": [
    {
     "data": {
      "text/plain": [
       "'\\n#cart-candidates\\ndf_candidates = pd.read_parquet(\\'/kaggle/input/otto-validate-candidates-carts/candidates_cart_test20.parquet\\')\\ndf_candidates = df_candidates.explode(\\'cart_predictions\\').reset_index(drop=True)\\ndf_candidates[\\'cart_predictions\\'] = df_candidates[\\'cart_predictions\\'].apply(str)\\ndf_candidates = (df_candidates.groupby(\\'session\\').agg({\\'cart_predictions\\': lambda x: \" \".join(x)}))\\ndf_candidates = prepare_2_upload(df_candidates, \\'_carts\\', \\'cart_predictions\\')\\n'"
      ]
     },
     "execution_count": 4,
     "metadata": {},
     "output_type": "execute_result"
    }
   ],
   "source": [
    "'''\n",
    "#cart-candidates\n",
    "df_candidates = pd.read_parquet('/kaggle/input/otto-validate-candidates-carts/candidates_cart_test20.parquet')\n",
    "df_candidates = df_candidates.explode('cart_predictions').reset_index(drop=True)\n",
    "df_candidates['cart_predictions'] = df_candidates['cart_predictions'].apply(str)\n",
    "df_candidates = (df_candidates.groupby('session').agg({'cart_predictions': lambda x: \" \".join(x)}))\n",
    "df_candidates = prepare_2_upload(df_candidates, '_carts', 'cart_predictions')\n",
    "'''"
   ]
  },
  {
   "cell_type": "code",
   "execution_count": 5,
   "id": "0a4f783a",
   "metadata": {
    "execution": {
     "iopub.execute_input": "2023-03-23T13:02:40.609494Z",
     "iopub.status.busy": "2023-03-23T13:02:40.609088Z",
     "iopub.status.idle": "2023-03-23T13:02:40.616627Z",
     "shell.execute_reply": "2023-03-23T13:02:40.615490Z"
    },
    "papermill": {
     "duration": 0.015264,
     "end_time": "2023-03-23T13:02:40.619001",
     "exception": false,
     "start_time": "2023-03-23T13:02:40.603737",
     "status": "completed"
    },
    "tags": []
   },
   "outputs": [
    {
     "data": {
      "text/plain": [
       "'\\n#order-candidates\\ndf_candidates = pd.read_parquet(\\'/kaggle/input/otto-validate-candidates-orders/candidates_cart_test20.parquet\\')\\ndf_candidates = df_candidates.explode(\\'order_predictions\\').reset_index(drop=True)\\ndf_candidates[\\'order_predictions\\'] = df_candidates[\\'order_predictions\\'].apply(str)\\ndf_candidates = (df_candidates.groupby(\\'session\\').agg({\\'order_predictions\\': lambda x: \" \".join(x)}))\\ndf_candidates = prepare_2_upload(df_candidates, \\'_orders\\', \\'order_predictions\\')\\n'"
      ]
     },
     "execution_count": 5,
     "metadata": {},
     "output_type": "execute_result"
    }
   ],
   "source": [
    "'''\n",
    "#order-candidates\n",
    "df_candidates = pd.read_parquet('/kaggle/input/otto-validate-candidates-orders/candidates_cart_test20.parquet')\n",
    "df_candidates = df_candidates.explode('order_predictions').reset_index(drop=True)\n",
    "df_candidates['order_predictions'] = df_candidates['order_predictions'].apply(str)\n",
    "df_candidates = (df_candidates.groupby('session').agg({'order_predictions': lambda x: \" \".join(x)}))\n",
    "df_candidates = prepare_2_upload(df_candidates, '_orders', 'order_predictions')\n",
    "'''\n"
   ]
  },
  {
   "cell_type": "markdown",
   "id": "8f51e05a",
   "metadata": {
    "papermill": {
     "duration": 0.004247,
     "end_time": "2023-03-23T13:02:40.627709",
     "exception": false,
     "start_time": "2023-03-23T13:02:40.623462",
     "status": "completed"
    },
    "tags": []
   },
   "source": [
    "## Import predictions made by reranking models."
   ]
  },
  {
   "cell_type": "code",
   "execution_count": 6,
   "id": "ef8679c1",
   "metadata": {
    "execution": {
     "iopub.execute_input": "2023-03-23T13:02:40.638740Z",
     "iopub.status.busy": "2023-03-23T13:02:40.637745Z",
     "iopub.status.idle": "2023-03-23T13:02:46.968139Z",
     "shell.execute_reply": "2023-03-23T13:02:46.966815Z"
    },
    "papermill": {
     "duration": 6.338774,
     "end_time": "2023-03-23T13:02:46.970868",
     "exception": false,
     "start_time": "2023-03-23T13:02:40.632094",
     "status": "completed"
    },
    "tags": []
   },
   "outputs": [],
   "source": [
    "# Load clicks model predictions.\n",
    "load_clicks = True\n",
    "\n",
    "if load_clicks:\n",
    "    df_candidates_clicks = pd.read_parquet('/kaggle/input/otto-model-clicks/click_predictions.parquet')\n",
    "    df_candidates_clicks = prepare_2_upload(df_candidates_clicks, '_clicks', 'click_predictions')\n"
   ]
  },
  {
   "cell_type": "code",
   "execution_count": 7,
   "id": "9298d437",
   "metadata": {
    "execution": {
     "iopub.execute_input": "2023-03-23T13:02:46.981931Z",
     "iopub.status.busy": "2023-03-23T13:02:46.981524Z",
     "iopub.status.idle": "2023-03-23T13:02:52.066983Z",
     "shell.execute_reply": "2023-03-23T13:02:52.065674Z"
    },
    "papermill": {
     "duration": 5.09425,
     "end_time": "2023-03-23T13:02:52.069828",
     "exception": false,
     "start_time": "2023-03-23T13:02:46.975578",
     "status": "completed"
    },
    "tags": []
   },
   "outputs": [],
   "source": [
    "# Load carts model predictions.\n",
    "load_carts = True\n",
    "\n",
    "if load_carts:\n",
    "    df_candidates_carts = pd.read_parquet('/kaggle/input/otto-model-carts-predict/gbdt_predictions.parquet')\n",
    "    df_candidates_carts = prepare_2_upload(df_candidates_carts, '_carts', 'cart_predictions')"
   ]
  },
  {
   "cell_type": "code",
   "execution_count": 8,
   "id": "e4bd8814",
   "metadata": {
    "execution": {
     "iopub.execute_input": "2023-03-23T13:02:52.082205Z",
     "iopub.status.busy": "2023-03-23T13:02:52.081779Z",
     "iopub.status.idle": "2023-03-23T13:02:57.161594Z",
     "shell.execute_reply": "2023-03-23T13:02:57.160229Z"
    },
    "papermill": {
     "duration": 5.089294,
     "end_time": "2023-03-23T13:02:57.164339",
     "exception": false,
     "start_time": "2023-03-23T13:02:52.075045",
     "status": "completed"
    },
    "tags": []
   },
   "outputs": [],
   "source": [
    "# Load orders model predictions.\n",
    "load_orders = True\n",
    "\n",
    "if load_orders:\n",
    "    df_candidates_orders = pd.read_parquet('/kaggle/input/otto-orders-combine/gbdt_predictions_from_both_cvs.parquet')\n",
    "    df_candidates_orders = prepare_2_upload(df_candidates_orders, '_orders', 'order_predictions')"
   ]
  },
  {
   "cell_type": "markdown",
   "id": "91ebe3ad",
   "metadata": {
    "papermill": {
     "duration": 0.004272,
     "end_time": "2023-03-23T13:02:57.174081",
     "exception": false,
     "start_time": "2023-03-23T13:02:57.169809",
     "status": "completed"
    },
    "tags": []
   },
   "source": [
    "## Combine and export the predictions."
   ]
  },
  {
   "cell_type": "code",
   "execution_count": 9,
   "id": "b46eca36",
   "metadata": {
    "execution": {
     "iopub.execute_input": "2023-03-23T13:02:57.184564Z",
     "iopub.status.busy": "2023-03-23T13:02:57.184145Z",
     "iopub.status.idle": "2023-03-23T13:03:25.273334Z",
     "shell.execute_reply": "2023-03-23T13:03:25.271973Z"
    },
    "papermill": {
     "duration": 28.097786,
     "end_time": "2023-03-23T13:03:25.276260",
     "exception": false,
     "start_time": "2023-03-23T13:02:57.178474",
     "status": "completed"
    },
    "tags": []
   },
   "outputs": [
    {
     "name": "stderr",
     "output_type": "stream",
     "text": [
      "/opt/conda/lib/python3.7/site-packages/ipykernel_launcher.py:8: FutureWarning: Passing 'suffixes' which cause duplicate columns {'labels_x'} in the result is deprecated and will raise a MergeError in a future version.\n",
      "  \n"
     ]
    }
   ],
   "source": [
    "# Combine predictions from different models and sample submission file into a single dataframe.\n",
    "df_sample = pd.read_csv('/kaggle/input/otto-recommender-system/sample_submission.csv')\n",
    "if load_clicks:\n",
    "    df_sample = pd.merge(df_sample, df_candidates_clicks, how='left', on = 'session_type')\n",
    "if load_carts:\n",
    "    df_sample = pd.merge(df_sample, df_candidates_carts, how='left', on = 'session_type')\n",
    "if load_orders:\n",
    "    df_sample = pd.merge(df_sample, df_candidates_orders, how='left', on = 'session_type')"
   ]
  },
  {
   "cell_type": "code",
   "execution_count": 10,
   "id": "bf857286",
   "metadata": {
    "execution": {
     "iopub.execute_input": "2023-03-23T13:03:25.287598Z",
     "iopub.status.busy": "2023-03-23T13:03:25.287168Z",
     "iopub.status.idle": "2023-03-23T13:03:31.885723Z",
     "shell.execute_reply": "2023-03-23T13:03:31.884438Z"
    },
    "papermill": {
     "duration": 6.607589,
     "end_time": "2023-03-23T13:03:31.888635",
     "exception": false,
     "start_time": "2023-03-23T13:03:25.281046",
     "status": "completed"
    },
    "tags": []
   },
   "outputs": [],
   "source": [
    "if len(df_sample.columns) == 3:\n",
    "    df_sample['labels_y'] = df_sample['labels_y'].fillna(df_sample['labels_x'])\n",
    "    df_sample['labels'] = df_sample['labels_y']\n",
    "if len(df_sample.columns) == 5:\n",
    "    df_sample['labels'] = np.nan\n",
    "    df_sample['labels'] = df_sample['labels'].fillna(df_sample.iloc[:,2])\n",
    "    df_sample['labels'] = df_sample['labels'].fillna(df_sample.iloc[:,3])\n",
    "    df_sample['labels'] = df_sample['labels'].fillna(df_sample.iloc[:,4])\n",
    "    \n",
    "df_sample = df_sample[['session_type', 'labels']]"
   ]
  },
  {
   "cell_type": "code",
   "execution_count": 11,
   "id": "5c8c11ff",
   "metadata": {
    "execution": {
     "iopub.execute_input": "2023-03-23T13:03:31.899575Z",
     "iopub.status.busy": "2023-03-23T13:03:31.899110Z",
     "iopub.status.idle": "2023-03-23T13:03:52.071591Z",
     "shell.execute_reply": "2023-03-23T13:03:52.070407Z"
    },
    "papermill": {
     "duration": 20.180924,
     "end_time": "2023-03-23T13:03:52.074224",
     "exception": false,
     "start_time": "2023-03-23T13:03:31.893300",
     "status": "completed"
    },
    "tags": []
   },
   "outputs": [],
   "source": [
    "df_sample.to_csv('submission.csv', index=False)"
   ]
  }
 ],
 "metadata": {
  "kernelspec": {
   "display_name": "Python 3",
   "language": "python",
   "name": "python3"
  },
  "language_info": {
   "codemirror_mode": {
    "name": "ipython",
    "version": 3
   },
   "file_extension": ".py",
   "mimetype": "text/x-python",
   "name": "python",
   "nbconvert_exporter": "python",
   "pygments_lexer": "ipython3",
   "version": "3.7.12"
  },
  "papermill": {
   "default_parameters": {},
   "duration": 83.343135,
   "end_time": "2023-03-23T13:03:53.304514",
   "environment_variables": {},
   "exception": null,
   "input_path": "__notebook__.ipynb",
   "output_path": "__notebook__.ipynb",
   "parameters": {},
   "start_time": "2023-03-23T13:02:29.961379",
   "version": "2.3.4"
  }
 },
 "nbformat": 4,
 "nbformat_minor": 5
}
