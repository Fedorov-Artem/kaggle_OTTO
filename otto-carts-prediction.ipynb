{
 "cells": [
  {
   "cell_type": "markdown",
   "id": "7d6bddd6",
   "metadata": {
    "papermill": {
     "duration": 0.003654,
     "end_time": "2023-03-23T11:12:46.243986",
     "exception": false,
     "start_time": "2023-03-23T11:12:46.240332",
     "status": "completed"
    },
    "tags": []
   },
   "source": [
    "# Carts Prediction\n",
    "The prediction of aids user is going to add to cart is made in this notebook. The notebook uses input from \"Carts Model\" notebook, where the carts model is fitted and two \"parallel\" notebooks that produce w2vec features for carts, one for cross-validation set and half of the test set and the other one for the other half of the test set.\n",
    "\n",
    "It was impossible to fit the model and make predictions in the same notebook, because of limitations of kaggle platform. On kaggle platform, notebooks with GPU have less memory available, and it was hard to fit all the required data into 13 GB of available RAM, so I had to move prediction to a different notebook without GPU support, but with 30Gb RAM available.\n",
    "## Imports and definitions"
   ]
  },
  {
   "cell_type": "code",
   "execution_count": 1,
   "id": "b340db73",
   "metadata": {
    "_cell_guid": "b1076dfc-b9ad-4769-8c92-a6c4dae69d19",
    "_uuid": "8f2839f25d086af736a60e9eeb907d3b93b6e0e5",
    "execution": {
     "iopub.execute_input": "2023-03-23T11:12:46.251260Z",
     "iopub.status.busy": "2023-03-23T11:12:46.250822Z",
     "iopub.status.idle": "2023-03-23T11:12:48.247412Z",
     "shell.execute_reply": "2023-03-23T11:12:48.246351Z"
    },
    "papermill": {
     "duration": 2.00375,
     "end_time": "2023-03-23T11:12:48.250381",
     "exception": false,
     "start_time": "2023-03-23T11:12:46.246631",
     "status": "completed"
    },
    "tags": []
   },
   "outputs": [
    {
     "data": {
      "text/html": [
       "<style type='text/css'>\n",
       ".datatable table.frame { margin-bottom: 0; }\n",
       ".datatable table.frame thead { border-bottom: none; }\n",
       ".datatable table.frame tr.coltypes td {  color: #FFFFFF;  line-height: 6px;  padding: 0 0.5em;}\n",
       ".datatable .bool    { background: #DDDD99; }\n",
       ".datatable .object  { background: #565656; }\n",
       ".datatable .int     { background: #5D9E5D; }\n",
       ".datatable .float   { background: #4040CC; }\n",
       ".datatable .str     { background: #CC4040; }\n",
       ".datatable .time    { background: #40CC40; }\n",
       ".datatable .row_index {  background: var(--jp-border-color3);  border-right: 1px solid var(--jp-border-color0);  color: var(--jp-ui-font-color3);  font-size: 9px;}\n",
       ".datatable .frame tbody td { text-align: left; }\n",
       ".datatable .frame tr.coltypes .row_index {  background: var(--jp-border-color0);}\n",
       ".datatable th:nth-child(2) { padding-left: 12px; }\n",
       ".datatable .hellipsis {  color: var(--jp-cell-editor-border-color);}\n",
       ".datatable .vellipsis {  background: var(--jp-layout-color0);  color: var(--jp-cell-editor-border-color);}\n",
       ".datatable .na {  color: var(--jp-cell-editor-border-color);  font-size: 80%;}\n",
       ".datatable .sp {  opacity: 0.25;}\n",
       ".datatable .footer { font-size: 9px; }\n",
       ".datatable .frame_dimensions {  background: var(--jp-border-color3);  border-top: 1px solid var(--jp-border-color0);  color: var(--jp-ui-font-color3);  display: inline-block;  opacity: 0.6;  padding: 1px 10px 1px 5px;}\n",
       "</style>\n"
      ],
      "text/plain": [
       "<IPython.core.display.HTML object>"
      ]
     },
     "metadata": {},
     "output_type": "display_data"
    }
   ],
   "source": [
    "import numpy as np # linear algebra\n",
    "import pandas as pd # data processing, CSV file I/O (e.g. pd.read_csv)\n",
    "\n",
    "import gc\n",
    "from humanize import naturalsize\n",
    "from lightgbm.sklearn import LGBMRanker\n",
    "import joblib\n",
    "\n",
    "# functions and classes common for several notebooks of current project\n",
    "import otto_common"
   ]
  },
  {
   "cell_type": "code",
   "execution_count": 2,
   "id": "a39d0c25",
   "metadata": {
    "execution": {
     "iopub.execute_input": "2023-03-23T11:12:48.259322Z",
     "iopub.status.busy": "2023-03-23T11:12:48.258451Z",
     "iopub.status.idle": "2023-03-23T11:12:48.263927Z",
     "shell.execute_reply": "2023-03-23T11:12:48.262625Z"
    },
    "papermill": {
     "duration": 0.011914,
     "end_time": "2023-03-23T11:12:48.266293",
     "exception": false,
     "start_time": "2023-03-23T11:12:48.254379",
     "status": "completed"
    },
    "tags": []
   },
   "outputs": [],
   "source": [
    "# This function was used to test new features before adding them to the pipeline.\n",
    "# Now it only deletes the day_of_week column, which is used to construct some features.\n",
    "def prepare_df(df):\n",
    "    del df['day_of_week']\n",
    "    return df"
   ]
  },
  {
   "cell_type": "markdown",
   "id": "da8b05d0",
   "metadata": {
    "papermill": {
     "duration": 0.002477,
     "end_time": "2023-03-23T11:12:48.271564",
     "exception": false,
     "start_time": "2023-03-23T11:12:48.269087",
     "status": "completed"
    },
    "tags": []
   },
   "source": [
    "## Load the model and make predictions"
   ]
  },
  {
   "cell_type": "code",
   "execution_count": 3,
   "id": "f04fce39",
   "metadata": {
    "execution": {
     "iopub.execute_input": "2023-03-23T11:12:48.281278Z",
     "iopub.status.busy": "2023-03-23T11:12:48.280857Z",
     "iopub.status.idle": "2023-03-23T11:12:48.440610Z",
     "shell.execute_reply": "2023-03-23T11:12:48.439680Z"
    },
    "papermill": {
     "duration": 0.168266,
     "end_time": "2023-03-23T11:12:48.443676",
     "exception": false,
     "start_time": "2023-03-23T11:12:48.275410",
     "status": "completed"
    },
    "tags": []
   },
   "outputs": [],
   "source": [
    "# Load the model.\n",
    "model = joblib.load('/kaggle/input/otto-model-carts/lgb.pkl')"
   ]
  },
  {
   "cell_type": "code",
   "execution_count": 4,
   "id": "b8c1dac5",
   "metadata": {
    "execution": {
     "iopub.execute_input": "2023-03-23T11:12:48.451865Z",
     "iopub.status.busy": "2023-03-23T11:12:48.451417Z",
     "iopub.status.idle": "2023-03-23T11:33:08.984521Z",
     "shell.execute_reply": "2023-03-23T11:33:08.982805Z"
    },
    "papermill": {
     "duration": 1220.540541,
     "end_time": "2023-03-23T11:33:08.987649",
     "exception": false,
     "start_time": "2023-03-23T11:12:48.447108",
     "status": "completed"
    },
    "tags": []
   },
   "outputs": [
    {
     "name": "stdout",
     "output_type": "stream",
     "text": [
      "Start predicting 0\n",
      "start loading\n",
      "data prepared\n",
      "Predictiion_made 0__0\n",
      "start loading\n",
      "data prepared\n",
      "Predictiion_made 0__1\n",
      "start loading\n",
      "data prepared\n",
      "Predictiion_made 0__2\n",
      "Predictions made 0\n",
      "Start predicting 1\n",
      "start loading\n",
      "data prepared\n",
      "Predictiion_made 1__0\n",
      "start loading\n",
      "data prepared\n",
      "Predictiion_made 1__1\n",
      "start loading\n",
      "data prepared\n",
      "Predictiion_made 1__2\n",
      "Predictions made 1\n"
     ]
    }
   ],
   "source": [
    "# Load the chunks of test data and make predictions also in chunks.\n",
    "# Paths to both chunks of test data.\n",
    "file_path_0 = '/kaggle/input/otto-carts-w2vec/test_features_with_w2v_cart_part_0.parquet'\n",
    "file_path_1 = '/kaggle/input/otto-carts-w2vec-part1/test_features_with_w2v_cart_part_1.parquet'\n",
    "\n",
    "for i in range(2):\n",
    "    print('Start predicting '+ str(i))\n",
    "    j_max = 3\n",
    "    for j in range(j_max):\n",
    "        # Load and prepare the data.\n",
    "        print('start loading')\n",
    "        if i == 0:\n",
    "            df_test = pd.read_parquet(file_path_0)\n",
    "        else:\n",
    "            df_test = pd.read_parquet(file_path_1)\n",
    "        df_test = otto_common.divide_df_by_column(df_test, j_max, j, 'session')\n",
    "        df_test = prepare_df(df_test)\n",
    "        gc.collect()\n",
    "        print('data prepared')\n",
    "        x_cols = list(df_test.columns[2:])\n",
    "        # Prediction itself.\n",
    "        df_test['gbdt_prediction'] = model.predict(df_test[x_cols])\n",
    "        print('Predictiion_made '+ str(i) + '__' + str(j))\n",
    "        # Remove the features and combine predictions into a single dataframe.\n",
    "        df_test = df_test[['session','cart_predictions','gbdt_prediction']]\n",
    "        gc.collect()\n",
    "        if (i == 0) & (j == 0):\n",
    "            df_test_all = df_test\n",
    "        else:\n",
    "            df_test_all = pd.concat([df_test_all, df_test])\n",
    "        del df_test\n",
    "        gc.collect()\n",
    "    print('Predictions made '+ str(i))"
   ]
  },
  {
   "cell_type": "code",
   "execution_count": 5,
   "id": "7f71cd95",
   "metadata": {
    "execution": {
     "iopub.execute_input": "2023-03-23T11:33:08.998686Z",
     "iopub.status.busy": "2023-03-23T11:33:08.998252Z",
     "iopub.status.idle": "2023-03-23T11:38:14.447846Z",
     "shell.execute_reply": "2023-03-23T11:38:14.446555Z"
    },
    "papermill": {
     "duration": 305.459177,
     "end_time": "2023-03-23T11:38:14.451049",
     "exception": false,
     "start_time": "2023-03-23T11:33:08.991872",
     "status": "completed"
    },
    "tags": []
   },
   "outputs": [],
   "source": [
    "# Select top 20 candidates and format the prediction as required by organizers.\n",
    "df_test_all = otto_common.select_top_20_and_format(df_test_all, 'cart_predictions','gbdt_prediction')"
   ]
  },
  {
   "cell_type": "code",
   "execution_count": 6,
   "id": "2efe076d",
   "metadata": {
    "execution": {
     "iopub.execute_input": "2023-03-23T11:38:14.462061Z",
     "iopub.status.busy": "2023-03-23T11:38:14.461614Z",
     "iopub.status.idle": "2023-03-23T11:38:16.510995Z",
     "shell.execute_reply": "2023-03-23T11:38:16.509763Z"
    },
    "papermill": {
     "duration": 2.05817,
     "end_time": "2023-03-23T11:38:16.513866",
     "exception": false,
     "start_time": "2023-03-23T11:38:14.455696",
     "status": "completed"
    },
    "tags": []
   },
   "outputs": [],
   "source": [
    "# Export the data to file.\n",
    "df_test_all.to_parquet('gbdt_predictions.parquet')"
   ]
  }
 ],
 "metadata": {
  "kernelspec": {
   "display_name": "Python 3",
   "language": "python",
   "name": "python3"
  },
  "language_info": {
   "codemirror_mode": {
    "name": "ipython",
    "version": 3
   },
   "file_extension": ".py",
   "mimetype": "text/x-python",
   "name": "python",
   "nbconvert_exporter": "python",
   "pygments_lexer": "ipython3",
   "version": "3.7.12"
  },
  "papermill": {
   "default_parameters": {},
   "duration": 1541.261211,
   "end_time": "2023-03-23T11:38:17.650066",
   "environment_variables": {},
   "exception": null,
   "input_path": "__notebook__.ipynb",
   "output_path": "__notebook__.ipynb",
   "parameters": {},
   "start_time": "2023-03-23T11:12:36.388855",
   "version": "2.3.4"
  }
 },
 "nbformat": 4,
 "nbformat_minor": 5
}
