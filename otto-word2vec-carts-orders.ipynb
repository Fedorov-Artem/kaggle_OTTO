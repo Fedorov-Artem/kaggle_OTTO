{
 "cells": [
  {
   "cell_type": "markdown",
   "id": "4787320d",
   "metadata": {
    "papermill": {
     "duration": 0.003706,
     "end_time": "2023-03-20T13:21:34.251869",
     "exception": false,
     "start_time": "2023-03-20T13:21:34.248163",
     "status": "completed"
    },
    "tags": []
   },
   "source": [
    "# W2vec model for carts and orders\n",
    "\n",
    "In this notebook, the known sessions from all the history are used to build a w2vec model. Information about event type and event time is removed, so, the sequence of aids is the only information kept. As generation of a w2vec model takes time (more than three hours total for both datasets) it is done in a separate notebook. For the OTTO project, two w2vec models are built with slightly different parameters. This model uses longer window (window=4) and is used to generate features for both carts and orders models, while another w2vec model with window=3 is used to build features for the clicks model.\n",
    "\n",
    "Hash function is the same for both models, its definition has been moved to otto_common, as it is used in every notebook that somehow uses any of the models.\n",
    "\n",
    "## Imports and definitions"
   ]
  },
  {
   "cell_type": "code",
   "execution_count": 1,
   "id": "0251a877",
   "metadata": {
    "execution": {
     "iopub.execute_input": "2023-03-20T13:21:34.259195Z",
     "iopub.status.busy": "2023-03-20T13:21:34.258706Z",
     "iopub.status.idle": "2023-03-20T13:21:35.420429Z",
     "shell.execute_reply": "2023-03-20T13:21:35.419225Z"
    },
    "papermill": {
     "duration": 1.168451,
     "end_time": "2023-03-20T13:21:35.423178",
     "exception": false,
     "start_time": "2023-03-20T13:21:34.254727",
     "status": "completed"
    },
    "tags": []
   },
   "outputs": [],
   "source": [
    "import gc\n",
    "from gensim.test.utils import common_texts\n",
    "from gensim.models import Word2Vec\n",
    "\n",
    "# functions and classes common for several notebooks of current project\n",
    "import otto_common"
   ]
  },
  {
   "cell_type": "code",
   "execution_count": 2,
   "id": "0adc6e27",
   "metadata": {
    "execution": {
     "iopub.execute_input": "2023-03-20T13:21:35.433466Z",
     "iopub.status.busy": "2023-03-20T13:21:35.432083Z",
     "iopub.status.idle": "2023-03-20T13:21:49.621538Z",
     "shell.execute_reply": "2023-03-20T13:21:49.620310Z"
    },
    "papermill": {
     "duration": 14.197833,
     "end_time": "2023-03-20T13:21:49.624124",
     "exception": false,
     "start_time": "2023-03-20T13:21:35.426291",
     "status": "completed"
    },
    "tags": []
   },
   "outputs": [
    {
     "name": "stdout",
     "output_type": "stream",
     "text": [
      "Collecting polars\r\n",
      "  Downloading polars-0.16.14-cp37-abi3-manylinux_2_17_x86_64.manylinux2014_x86_64.whl (16.2 MB)\r\n",
      "\u001b[2K     \u001b[90m━━━━━━━━━━━━━━━━━━━━━━━━━━━━━━━━━━━━━━━━\u001b[0m \u001b[32m16.2/16.2 MB\u001b[0m \u001b[31m51.4 MB/s\u001b[0m eta \u001b[36m0:00:00\u001b[0m\r\n",
      "\u001b[?25hRequirement already satisfied: typing_extensions>=4.0.1 in /opt/conda/lib/python3.7/site-packages (from polars) (4.1.1)\r\n",
      "Installing collected packages: polars\r\n",
      "Successfully installed polars-0.16.14\r\n",
      "\u001b[33mWARNING: Running pip as the 'root' user can result in broken permissions and conflicting behaviour with the system package manager. It is recommended to use a virtual environment instead: https://pip.pypa.io/warnings/venv\u001b[0m\u001b[33m\r\n",
      "\u001b[0m"
     ]
    }
   ],
   "source": [
    "!pip install polars\n",
    "import polars as pl"
   ]
  },
  {
   "cell_type": "code",
   "execution_count": 3,
   "id": "19f7a0f7",
   "metadata": {
    "execution": {
     "iopub.execute_input": "2023-03-20T13:21:49.633698Z",
     "iopub.status.busy": "2023-03-20T13:21:49.632697Z",
     "iopub.status.idle": "2023-03-20T13:21:49.638631Z",
     "shell.execute_reply": "2023-03-20T13:21:49.637647Z"
    },
    "papermill": {
     "duration": 0.012851,
     "end_time": "2023-03-20T13:21:49.640760",
     "exception": false,
     "start_time": "2023-03-20T13:21:49.627909",
     "status": "completed"
    },
    "tags": []
   },
   "outputs": [],
   "source": [
    "def prepare_sentences(sessions_path):\n",
    "    df = pl.read_parquet(sessions_path)\n",
    "    df = df.groupby('session').agg(pl.col('aid').alias('sentence'))\n",
    "    return df['sentence'].to_list()"
   ]
  },
  {
   "cell_type": "markdown",
   "id": "dcd0fb70",
   "metadata": {
    "papermill": {
     "duration": 0.003324,
     "end_time": "2023-03-20T13:21:49.647773",
     "exception": false,
     "start_time": "2023-03-20T13:21:49.644449",
     "status": "completed"
    },
    "tags": []
   },
   "source": [
    "## W2vec model for cross-validation dataset"
   ]
  },
  {
   "cell_type": "code",
   "execution_count": 4,
   "id": "163ab01d",
   "metadata": {
    "execution": {
     "iopub.execute_input": "2023-03-20T13:21:49.657161Z",
     "iopub.status.busy": "2023-03-20T13:21:49.656338Z",
     "iopub.status.idle": "2023-03-20T13:22:42.564306Z",
     "shell.execute_reply": "2023-03-20T13:22:42.563200Z"
    },
    "papermill": {
     "duration": 52.91561,
     "end_time": "2023-03-20T13:22:42.566988",
     "exception": false,
     "start_time": "2023-03-20T13:21:49.651378",
     "status": "completed"
    },
    "tags": []
   },
   "outputs": [],
   "source": [
    "# Load the sessions available for cross-validation and transform them into sequence of aids.\n",
    "sessions_path_cv = '/kaggle/input/otto-prepare-cv/cv_train.parquet'\n",
    "\n",
    "sentences = prepare_sentences(sessions_path_cv)"
   ]
  },
  {
   "cell_type": "code",
   "execution_count": 5,
   "id": "e061c493",
   "metadata": {
    "execution": {
     "iopub.execute_input": "2023-03-20T13:22:42.576162Z",
     "iopub.status.busy": "2023-03-20T13:22:42.575731Z",
     "iopub.status.idle": "2023-03-20T14:53:52.363733Z",
     "shell.execute_reply": "2023-03-20T14:53:52.362546Z"
    },
    "papermill": {
     "duration": 5469.800029,
     "end_time": "2023-03-20T14:53:52.370883",
     "exception": false,
     "start_time": "2023-03-20T13:22:42.570854",
     "status": "completed"
    },
    "tags": []
   },
   "outputs": [
    {
     "name": "stdout",
     "output_type": "stream",
     "text": [
      "CPU times: user 5h 48min 25s, sys: 28.6 s, total: 5h 48min 53s\n",
      "Wall time: 1h 31min 9s\n"
     ]
    },
    {
     "data": {
      "text/plain": [
       "0"
      ]
     },
     "execution_count": 5,
     "metadata": {},
     "output_type": "execute_result"
    }
   ],
   "source": [
    "%%time\n",
    "# Train and save the w2vec model for cross-validation.\n",
    "\n",
    "w2vec = Word2Vec(sentences=sentences, vector_size= 64, window = 4, negative = 8, ns_exponent = 0.2, sg = 1,\n",
    "                 min_count=1, workers=4, seed = 1, hashfxn=otto_common.simple_hash_function)\n",
    "w2vec.save(\"word2vec_cv_exp.wordvectors\")\n",
    "del sentences, w2vec; gc.collect() "
   ]
  },
  {
   "cell_type": "markdown",
   "id": "2ef27f6f",
   "metadata": {
    "papermill": {
     "duration": 0.003932,
     "end_time": "2023-03-20T14:53:52.379641",
     "exception": false,
     "start_time": "2023-03-20T14:53:52.375709",
     "status": "completed"
    },
    "tags": []
   },
   "source": [
    "## W2vec model for test dataset"
   ]
  },
  {
   "cell_type": "code",
   "execution_count": 6,
   "id": "37aae6dc",
   "metadata": {
    "execution": {
     "iopub.execute_input": "2023-03-20T14:53:52.391230Z",
     "iopub.status.busy": "2023-03-20T14:53:52.390767Z",
     "iopub.status.idle": "2023-03-20T14:55:22.822006Z",
     "shell.execute_reply": "2023-03-20T14:55:22.820265Z"
    },
    "papermill": {
     "duration": 90.44336,
     "end_time": "2023-03-20T14:55:22.827496",
     "exception": false,
     "start_time": "2023-03-20T14:53:52.384136",
     "status": "completed"
    },
    "tags": []
   },
   "outputs": [],
   "source": [
    "# Load the sessions available for test (this means full data) and transform them into sequence of aids.\n",
    "sessions_path_test = '/kaggle/input/otto-prepare-cv/train_full.parquet'\n",
    "\n",
    "sentences = prepare_sentences(sessions_path_test)"
   ]
  },
  {
   "cell_type": "code",
   "execution_count": 7,
   "id": "cba2a9e2",
   "metadata": {
    "execution": {
     "iopub.execute_input": "2023-03-20T14:55:22.840492Z",
     "iopub.status.busy": "2023-03-20T14:55:22.840087Z",
     "iopub.status.idle": "2023-03-20T17:09:44.716348Z",
     "shell.execute_reply": "2023-03-20T17:09:44.714422Z"
    },
    "papermill": {
     "duration": 8061.895234,
     "end_time": "2023-03-20T17:09:44.729564",
     "exception": false,
     "start_time": "2023-03-20T14:55:22.834330",
     "status": "completed"
    },
    "tags": []
   },
   "outputs": [
    {
     "name": "stdout",
     "output_type": "stream",
     "text": [
      "CPU times: user 8h 33min 55s, sys: 38.8 s, total: 8h 34min 34s\n",
      "Wall time: 2h 14min 21s\n"
     ]
    }
   ],
   "source": [
    "%%time\n",
    "# Train and save the w2vec model for test.\n",
    "\n",
    "w2vec_test = Word2Vec(sentences=sentences, vector_size= 64, window = 4, negative = 8, ns_exponent = 0.2, sg = 1,\n",
    "                 min_count=1, workers=4, seed = 1, hashfxn=otto_common.simple_hash_function)\n",
    "\n",
    "w2vec_test.save(\"word2vec_test_exp.wordvectors\")"
   ]
  }
 ],
 "metadata": {
  "kernelspec": {
   "display_name": "Python 3",
   "language": "python",
   "name": "python3"
  },
  "language_info": {
   "codemirror_mode": {
    "name": "ipython",
    "version": 3
   },
   "file_extension": ".py",
   "mimetype": "text/x-python",
   "name": "python",
   "nbconvert_exporter": "python",
   "pygments_lexer": "ipython3",
   "version": "3.7.12"
  },
  "papermill": {
   "default_parameters": {},
   "duration": 13704.121055,
   "end_time": "2023-03-20T17:09:49.108083",
   "environment_variables": {},
   "exception": null,
   "input_path": "__notebook__.ipynb",
   "output_path": "__notebook__.ipynb",
   "parameters": {},
   "start_time": "2023-03-20T13:21:24.987028",
   "version": "2.3.4"
  }
 },
 "nbformat": 4,
 "nbformat_minor": 5
}
