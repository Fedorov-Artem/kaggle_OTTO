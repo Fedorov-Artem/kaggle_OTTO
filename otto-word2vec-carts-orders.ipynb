{
 "cells": [
  {
   "cell_type": "markdown",
   "id": "c45dbfa4",
   "metadata": {
    "papermill": {
     "duration": 0.003697,
     "end_time": "2023-03-17T22:10:52.920583",
     "exception": false,
     "start_time": "2023-03-17T22:10:52.916886",
     "status": "completed"
    },
    "tags": []
   },
   "source": [
    "# W2vec model for carts and orders\n",
    "\n",
    "Here the known sessions from all the history are used to build a w2vec model. Information about event type and event time is removed, so, the sequence of aids is the only information kept. As generation of a w2vec model takes time (about one hour for the cross-validation dataset and about 25% more for test dataset) it is done in a separate notebook.\n",
    "For the OTTO project two w2vec models are build with slightly different parameters. This model uses longer window (window=4) and is used to generate features for both carts and orders model, while another with window=3 is used to build features clicks model.\n",
    "\n",
    "Hash function is the same for both models, it has been moved to otto_common, as it is used in every notebook that somehow uses any of the models."
   ]
  },
  {
   "cell_type": "code",
   "execution_count": 1,
   "id": "276bf7b8",
   "metadata": {
    "execution": {
     "iopub.execute_input": "2023-03-17T22:10:52.927969Z",
     "iopub.status.busy": "2023-03-17T22:10:52.927471Z",
     "iopub.status.idle": "2023-03-17T22:10:54.135967Z",
     "shell.execute_reply": "2023-03-17T22:10:54.134852Z"
    },
    "papermill": {
     "duration": 1.215689,
     "end_time": "2023-03-17T22:10:54.139057",
     "exception": false,
     "start_time": "2023-03-17T22:10:52.923368",
     "status": "completed"
    },
    "tags": []
   },
   "outputs": [],
   "source": [
    "import gc\n",
    "from gensim.test.utils import common_texts\n",
    "from gensim.models import Word2Vec\n",
    "\n",
    "# functions and classes common for several notebooks of current project\n",
    "import otto_common"
   ]
  },
  {
   "cell_type": "code",
   "execution_count": 2,
   "id": "3bdb5055",
   "metadata": {
    "execution": {
     "iopub.execute_input": "2023-03-17T22:10:54.146161Z",
     "iopub.status.busy": "2023-03-17T22:10:54.145802Z",
     "iopub.status.idle": "2023-03-17T22:11:08.039100Z",
     "shell.execute_reply": "2023-03-17T22:11:08.037775Z"
    },
    "papermill": {
     "duration": 13.899951,
     "end_time": "2023-03-17T22:11:08.041969",
     "exception": false,
     "start_time": "2023-03-17T22:10:54.142018",
     "status": "completed"
    },
    "tags": []
   },
   "outputs": [
    {
     "name": "stdout",
     "output_type": "stream",
     "text": [
      "Collecting polars\r\n",
      "  Downloading polars-0.16.14-cp37-abi3-manylinux_2_17_x86_64.manylinux2014_x86_64.whl (16.2 MB)\r\n",
      "\u001b[2K     \u001b[90m━━━━━━━━━━━━━━━━━━━━━━━━━━━━━━━━━━━━━━━━\u001b[0m \u001b[32m16.2/16.2 MB\u001b[0m \u001b[31m54.4 MB/s\u001b[0m eta \u001b[36m0:00:00\u001b[0m\r\n",
      "\u001b[?25hRequirement already satisfied: typing_extensions>=4.0.1 in /opt/conda/lib/python3.7/site-packages (from polars) (4.1.1)\r\n",
      "Installing collected packages: polars\r\n",
      "Successfully installed polars-0.16.14\r\n",
      "\u001b[33mWARNING: Running pip as the 'root' user can result in broken permissions and conflicting behaviour with the system package manager. It is recommended to use a virtual environment instead: https://pip.pypa.io/warnings/venv\u001b[0m\u001b[33m\r\n",
      "\u001b[0m"
     ]
    }
   ],
   "source": [
    "!pip install polars\n",
    "import polars as pl"
   ]
  },
  {
   "cell_type": "code",
   "execution_count": 3,
   "id": "87b44baf",
   "metadata": {
    "execution": {
     "iopub.execute_input": "2023-03-17T22:11:08.051198Z",
     "iopub.status.busy": "2023-03-17T22:11:08.050815Z",
     "iopub.status.idle": "2023-03-17T22:11:08.056593Z",
     "shell.execute_reply": "2023-03-17T22:11:08.055502Z"
    },
    "papermill": {
     "duration": 0.013014,
     "end_time": "2023-03-17T22:11:08.058800",
     "exception": false,
     "start_time": "2023-03-17T22:11:08.045786",
     "status": "completed"
    },
    "tags": []
   },
   "outputs": [],
   "source": [
    "def prepare_sentences(sessions_path):\n",
    "    df = pl.read_parquet(sessions_path)\n",
    "    df = df.groupby('session').agg(pl.col('aid').alias('sentence'))\n",
    "    return df['sentence'].to_list()"
   ]
  },
  {
   "cell_type": "markdown",
   "id": "3d43ecb2",
   "metadata": {
    "papermill": {
     "duration": 0.003234,
     "end_time": "2023-03-17T22:11:08.065595",
     "exception": false,
     "start_time": "2023-03-17T22:11:08.062361",
     "status": "completed"
    },
    "tags": []
   },
   "source": [
    "## W2vec model for cross-validation dataset"
   ]
  },
  {
   "cell_type": "code",
   "execution_count": 4,
   "id": "3b176cde",
   "metadata": {
    "execution": {
     "iopub.execute_input": "2023-03-17T22:11:08.073653Z",
     "iopub.status.busy": "2023-03-17T22:11:08.073291Z",
     "iopub.status.idle": "2023-03-17T22:11:56.003022Z",
     "shell.execute_reply": "2023-03-17T22:11:56.001788Z"
    },
    "papermill": {
     "duration": 47.937586,
     "end_time": "2023-03-17T22:11:56.006480",
     "exception": false,
     "start_time": "2023-03-17T22:11:08.068894",
     "status": "completed"
    },
    "tags": []
   },
   "outputs": [],
   "source": [
    "# Load the sessions aviable for cross-validation and fransform them into sequense of aids.\n",
    "sessions_path_cv = '/kaggle/input/otto-prepare-cv/cv_train.parquet'\n",
    "\n",
    "sentences = prepare_sentences(sessions_path_cv)"
   ]
  },
  {
   "cell_type": "code",
   "execution_count": 5,
   "id": "1fd4920b",
   "metadata": {
    "execution": {
     "iopub.execute_input": "2023-03-17T22:11:56.016279Z",
     "iopub.status.busy": "2023-03-17T22:11:56.015515Z",
     "iopub.status.idle": "2023-03-17T23:28:02.945845Z",
     "shell.execute_reply": "2023-03-17T23:28:02.944686Z"
    },
    "papermill": {
     "duration": 4566.940826,
     "end_time": "2023-03-17T23:28:02.951643",
     "exception": false,
     "start_time": "2023-03-17T22:11:56.010817",
     "status": "completed"
    },
    "tags": []
   },
   "outputs": [
    {
     "name": "stdout",
     "output_type": "stream",
     "text": [
      "CPU times: user 4h 49min 48s, sys: 23.4 s, total: 4h 50min 12s\n",
      "Wall time: 1h 16min 6s\n"
     ]
    },
    {
     "data": {
      "text/plain": [
       "0"
      ]
     },
     "execution_count": 5,
     "metadata": {},
     "output_type": "execute_result"
    }
   ],
   "source": [
    "%%time\n",
    "# Use standard functions to build and save the w2vec model for cross-validation.\n",
    "\n",
    "w2vec = Word2Vec(sentences=sentences, vector_size= 64, window = 4, negative = 8, ns_exponent = 0.2, sg = 1,\n",
    "                 min_count=1, workers=4, seed = 1, hashfxn=otto_common.simple_hash_function)\n",
    "w2vec.save(\"word2vec_cv_exp.wordvectors\")\n",
    "del sentences, w2vec; gc.collect() "
   ]
  },
  {
   "cell_type": "markdown",
   "id": "2867b096",
   "metadata": {
    "papermill": {
     "duration": 0.003012,
     "end_time": "2023-03-17T23:28:02.958059",
     "exception": false,
     "start_time": "2023-03-17T23:28:02.955047",
     "status": "completed"
    },
    "tags": []
   },
   "source": [
    "## W2vec model for test dataset"
   ]
  },
  {
   "cell_type": "code",
   "execution_count": 6,
   "id": "c8c71d27",
   "metadata": {
    "execution": {
     "iopub.execute_input": "2023-03-17T23:28:02.966131Z",
     "iopub.status.busy": "2023-03-17T23:28:02.965783Z",
     "iopub.status.idle": "2023-03-17T23:29:21.089993Z",
     "shell.execute_reply": "2023-03-17T23:29:21.088408Z"
    },
    "papermill": {
     "duration": 78.133388,
     "end_time": "2023-03-17T23:29:21.095013",
     "exception": false,
     "start_time": "2023-03-17T23:28:02.961625",
     "status": "completed"
    },
    "tags": []
   },
   "outputs": [],
   "source": [
    "# Load the sessions aviable for test (this means full data) and fransform them into sequense of aids.\n",
    "sessions_path_test = '/kaggle/input/otto-prepare-cv/train_full.parquet'\n",
    "\n",
    "sentences = prepare_sentences(sessions_path_test)"
   ]
  },
  {
   "cell_type": "code",
   "execution_count": 7,
   "id": "3f136cd2",
   "metadata": {
    "execution": {
     "iopub.execute_input": "2023-03-17T23:29:21.106221Z",
     "iopub.status.busy": "2023-03-17T23:29:21.105890Z",
     "iopub.status.idle": "2023-03-18T01:26:19.302445Z",
     "shell.execute_reply": "2023-03-18T01:26:19.300963Z"
    },
    "papermill": {
     "duration": 7018.208253,
     "end_time": "2023-03-18T01:26:19.309273",
     "exception": false,
     "start_time": "2023-03-17T23:29:21.101020",
     "status": "completed"
    },
    "tags": []
   },
   "outputs": [
    {
     "name": "stdout",
     "output_type": "stream",
     "text": [
      "CPU times: user 7h 28min 43s, sys: 33 s, total: 7h 29min 16s\n",
      "Wall time: 1h 56min 58s\n"
     ]
    }
   ],
   "source": [
    "%%time\n",
    "# Use standard functions to build and save the w2vec model for test.\n",
    "\n",
    "w2vec_test = Word2Vec(sentences=sentences, vector_size= 64, window = 4, negative = 8, ns_exponent = 0.2, sg = 1,\n",
    "                 min_count=1, workers=4, seed = 1, hashfxn=otto_common.simple_hash_function)\n",
    "\n",
    "w2vec_test.save(\"word2vec_test_exp.wordvectors\")"
   ]
  }
 ],
 "metadata": {
  "kernelspec": {
   "display_name": "Python 3",
   "language": "python",
   "name": "python3"
  },
  "language_info": {
   "codemirror_mode": {
    "name": "ipython",
    "version": 3
   },
   "file_extension": ".py",
   "mimetype": "text/x-python",
   "name": "python",
   "nbconvert_exporter": "python",
   "pygments_lexer": "ipython3",
   "version": "3.7.12"
  },
  "papermill": {
   "default_parameters": {},
   "duration": 11739.675517,
   "end_time": "2023-03-18T01:26:23.259056",
   "environment_variables": {},
   "exception": null,
   "input_path": "__notebook__.ipynb",
   "output_path": "__notebook__.ipynb",
   "parameters": {},
   "start_time": "2023-03-17T22:10:43.583539",
   "version": "2.3.4"
  }
 },
 "nbformat": 4,
 "nbformat_minor": 5
}
