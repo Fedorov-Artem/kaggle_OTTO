{
 "cells": [
  {
   "cell_type": "markdown",
   "id": "177e3a3d",
   "metadata": {
    "papermill": {
     "duration": 0.004297,
     "end_time": "2023-03-21T12:30:05.083465",
     "exception": false,
     "start_time": "2023-03-21T12:30:05.079168",
     "status": "completed"
    },
    "tags": []
   },
   "source": [
    "# W2vec features for clicks\n",
    "\n",
    "Here, the w2vec features for clicks model are built using w2vec model from \"W2vec model for clicks\" notebook. There are total 2 w2vec features used in clicks model - w2vec similarity between candidate and last aid in session (also called \"first_feature\") and w2vec similarity between candidate and aid before last in session (also called \"second feature\").\n",
    "## Imports and definitions"
   ]
  },
  {
   "cell_type": "code",
   "execution_count": 1,
   "id": "93edcc94",
   "metadata": {
    "_cell_guid": "b1076dfc-b9ad-4769-8c92-a6c4dae69d19",
    "_uuid": "8f2839f25d086af736a60e9eeb907d3b93b6e0e5",
    "execution": {
     "iopub.execute_input": "2023-03-21T12:30:05.092561Z",
     "iopub.status.busy": "2023-03-21T12:30:05.092095Z",
     "iopub.status.idle": "2023-03-21T12:30:06.472744Z",
     "shell.execute_reply": "2023-03-21T12:30:06.471427Z"
    },
    "papermill": {
     "duration": 1.389094,
     "end_time": "2023-03-21T12:30:06.476009",
     "exception": false,
     "start_time": "2023-03-21T12:30:05.086915",
     "status": "completed"
    },
    "tags": []
   },
   "outputs": [],
   "source": [
    "import numpy as np # linear algebra\n",
    "import pandas as pd # data processing, CSV file I/O (e.g. pd.read_csv)\n",
    "\n",
    "import gc\n",
    "from humanize import naturalsize\n",
    "from gensim.models import Word2Vec\n",
    "from pandarallel import pandarallel\n",
    "\n",
    "# functions and classes common for several notebooks of current project\n",
    "import otto_common"
   ]
  },
  {
   "cell_type": "code",
   "execution_count": 2,
   "id": "ff4823b4",
   "metadata": {
    "execution": {
     "iopub.execute_input": "2023-03-21T12:30:06.484401Z",
     "iopub.status.busy": "2023-03-21T12:30:06.483778Z",
     "iopub.status.idle": "2023-03-21T12:30:06.492167Z",
     "shell.execute_reply": "2023-03-21T12:30:06.490741Z"
    },
    "papermill": {
     "duration": 0.015588,
     "end_time": "2023-03-21T12:30:06.494936",
     "exception": false,
     "start_time": "2023-03-21T12:30:06.479348",
     "status": "completed"
    },
    "tags": []
   },
   "outputs": [],
   "source": [
    "# Calculate w2vec similarity between 2 columns.\n",
    "def w2v_similarity(features_path, model_w2v_path, col_name, col_name_result):\n",
    "    df_w2v = pd.read_parquet(features_path)\n",
    "    df_w2v = df_w2v[[col_name, 'click_predictions']]\n",
    "    gc.collect()\n",
    "    model = Word2Vec.load(model_w2v_path)\n",
    "    pandarallel.initialize(nb_workers=4)\n",
    "    df_w2v[col_name_result] = df_w2v.parallel_apply(\n",
    "        lambda x: model.wv.similarity(x[col_name], x.click_predictions) if x[col_name] >= 0 else -1, axis=1\n",
    "    )\n",
    "    del df_w2v[col_name], df_w2v['click_predictions']\n",
    "    return df_w2v"
   ]
  },
  {
   "cell_type": "markdown",
   "id": "58ccc3fb",
   "metadata": {
    "papermill": {
     "duration": 0.003209,
     "end_time": "2023-03-21T12:30:06.501595",
     "exception": false,
     "start_time": "2023-03-21T12:30:06.498386",
     "status": "completed"
    },
    "tags": []
   },
   "source": [
    "## W2vec features for cross-validation dataset"
   ]
  },
  {
   "cell_type": "code",
   "execution_count": 3,
   "id": "c2a0fb24",
   "metadata": {
    "execution": {
     "iopub.execute_input": "2023-03-21T12:30:06.509672Z",
     "iopub.status.busy": "2023-03-21T12:30:06.509249Z",
     "iopub.status.idle": "2023-03-21T13:11:56.796664Z",
     "shell.execute_reply": "2023-03-21T13:11:56.794727Z"
    },
    "papermill": {
     "duration": 2510.298538,
     "end_time": "2023-03-21T13:11:56.803291",
     "exception": false,
     "start_time": "2023-03-21T12:30:06.504753",
     "status": "completed"
    },
    "tags": []
   },
   "outputs": [
    {
     "name": "stdout",
     "output_type": "stream",
     "text": [
      "INFO: Pandarallel will run on 4 workers.\n",
      "INFO: Pandarallel will use Memory file system to transfer data between the main process and workers.\n",
      "INFO: Pandarallel will run on 4 workers.\n",
      "INFO: Pandarallel will use Memory file system to transfer data between the main process and workers.\n"
     ]
    }
   ],
   "source": [
    "# Define the paths, calculate the w2vec features and join them to the dataframe with all the other features.\n",
    "features_train = '/kaggle/input/otto-feature-engineering-clicks/cv1_features.parquet'\n",
    "model_train = '/kaggle/input/otto-word2vec/word2vec_cv.wordvectors'\n",
    "\n",
    "first_feature = w2v_similarity(features_train, model_train, 'first_aid', 'similarity_first')\n",
    "second_feature = w2v_similarity(features_train, model_train, 'second_aid', 'similarity_second')\n",
    "df_train = pd.read_parquet(features_train)\n",
    "df_train = pd.concat([df_train, first_feature, second_feature], axis=1)\n"
   ]
  },
  {
   "cell_type": "code",
   "execution_count": 4,
   "id": "171c1609",
   "metadata": {
    "execution": {
     "iopub.execute_input": "2023-03-21T13:11:56.816079Z",
     "iopub.status.busy": "2023-03-21T13:11:56.815622Z",
     "iopub.status.idle": "2023-03-21T13:12:20.854466Z",
     "shell.execute_reply": "2023-03-21T13:12:20.853272Z"
    },
    "papermill": {
     "duration": 24.050074,
     "end_time": "2023-03-21T13:12:20.859052",
     "exception": false,
     "start_time": "2023-03-21T13:11:56.808978",
     "status": "completed"
    },
    "tags": []
   },
   "outputs": [
    {
     "name": "stdout",
     "output_type": "stream",
     "text": [
      "4.6 GB\n"
     ]
    },
    {
     "data": {
      "text/plain": [
       "0"
      ]
     },
     "execution_count": 4,
     "metadata": {},
     "output_type": "execute_result"
    }
   ],
   "source": [
    "# Check file size and export to file.\n",
    "size = df_train.memory_usage(deep='True').sum()\n",
    "print(naturalsize(size))\n",
    "df_train.to_parquet('cv1_features_with_w2v.parquet')\n",
    "\n",
    "del df_train, first_feature, second_feature\n",
    "gc.collect()"
   ]
  },
  {
   "cell_type": "markdown",
   "id": "2ebedc58",
   "metadata": {
    "papermill": {
     "duration": 0.003344,
     "end_time": "2023-03-21T13:12:20.866144",
     "exception": false,
     "start_time": "2023-03-21T13:12:20.862800",
     "status": "completed"
    },
    "tags": []
   },
   "source": [
    "## W2vec features for the test dataset"
   ]
  },
  {
   "cell_type": "code",
   "execution_count": 5,
   "id": "0350c137",
   "metadata": {
    "execution": {
     "iopub.execute_input": "2023-03-21T13:12:20.875174Z",
     "iopub.status.busy": "2023-03-21T13:12:20.874769Z",
     "iopub.status.idle": "2023-03-21T13:48:12.270970Z",
     "shell.execute_reply": "2023-03-21T13:48:12.268648Z"
    },
    "papermill": {
     "duration": 2151.405948,
     "end_time": "2023-03-21T13:48:12.275622",
     "exception": false,
     "start_time": "2023-03-21T13:12:20.869674",
     "status": "completed"
    },
    "tags": []
   },
   "outputs": [
    {
     "name": "stdout",
     "output_type": "stream",
     "text": [
      "INFO: Pandarallel will run on 4 workers.\n",
      "INFO: Pandarallel will use Memory file system to transfer data between the main process and workers.\n",
      "INFO: Pandarallel will run on 4 workers.\n",
      "INFO: Pandarallel will use Memory file system to transfer data between the main process and workers.\n"
     ]
    }
   ],
   "source": [
    "# The features for the test dataset are split between who chunks. So, we built the features for each chunk.\n",
    "# First chunk is processed in this cell.\n",
    "features_test1 = '/kaggle/input/otto-feature-engineering-clicks/test_features_cart_part_0.parquet'\n",
    "features_test2 = '/kaggle/input/otto-feature-engineering-clicks/test_features_cart_part_1.parquet'\n",
    "model_test = '/kaggle/input/otto-word2vec/word2vec_test.wordvectors'\n",
    "\n",
    "first_feature = w2v_similarity(features_test1, model_test, 'first_aid', 'similarity_first')\n",
    "second_feature = w2v_similarity(features_test1, model_test, 'second_aid', 'similarity_second')\n",
    "df_test1 = pd.read_parquet(features_test1)\n",
    "df_test1 = pd.concat([df_test1, first_feature, second_feature], axis=1)"
   ]
  },
  {
   "cell_type": "code",
   "execution_count": 6,
   "id": "b7ece086",
   "metadata": {
    "execution": {
     "iopub.execute_input": "2023-03-21T13:48:12.287700Z",
     "iopub.status.busy": "2023-03-21T13:48:12.287165Z",
     "iopub.status.idle": "2023-03-21T13:48:31.184738Z",
     "shell.execute_reply": "2023-03-21T13:48:31.183308Z"
    },
    "papermill": {
     "duration": 18.906575,
     "end_time": "2023-03-21T13:48:31.187405",
     "exception": false,
     "start_time": "2023-03-21T13:48:12.280830",
     "status": "completed"
    },
    "tags": []
   },
   "outputs": [
    {
     "name": "stdout",
     "output_type": "stream",
     "text": [
      "3.6 GB\n"
     ]
    },
    {
     "data": {
      "text/plain": [
       "21"
      ]
     },
     "execution_count": 6,
     "metadata": {},
     "output_type": "execute_result"
    }
   ],
   "source": [
    "# Check file size and export to file.\n",
    "size = df_test1.memory_usage(deep='True').sum()\n",
    "print(naturalsize(size))\n",
    "df_test1.to_parquet('test_features_with_w2v_part_0.parquet')\n",
    "\n",
    "del df_test1, first_feature, second_feature\n",
    "gc.collect()"
   ]
  },
  {
   "cell_type": "code",
   "execution_count": 7,
   "id": "7d92fca6",
   "metadata": {
    "execution": {
     "iopub.execute_input": "2023-03-21T13:48:31.198083Z",
     "iopub.status.busy": "2023-03-21T13:48:31.197671Z",
     "iopub.status.idle": "2023-03-21T14:23:56.238202Z",
     "shell.execute_reply": "2023-03-21T14:23:56.236607Z"
    },
    "papermill": {
     "duration": 2125.050844,
     "end_time": "2023-03-21T14:23:56.242655",
     "exception": false,
     "start_time": "2023-03-21T13:48:31.191811",
     "status": "completed"
    },
    "tags": []
   },
   "outputs": [
    {
     "name": "stdout",
     "output_type": "stream",
     "text": [
      "INFO: Pandarallel will run on 4 workers.\n",
      "INFO: Pandarallel will use Memory file system to transfer data between the main process and workers.\n",
      "INFO: Pandarallel will run on 4 workers.\n",
      "INFO: Pandarallel will use Memory file system to transfer data between the main process and workers.\n"
     ]
    }
   ],
   "source": [
    "# Same for the second chunk.\n",
    "first_feature = w2v_similarity(features_test2, model_test, 'first_aid', 'similarity_first')\n",
    "second_feature = w2v_similarity(features_test2, model_test, 'second_aid', 'similarity_second')\n",
    "df_test2 = pd.read_parquet(features_test2)\n",
    "df_test2 = pd.concat([df_test2, first_feature, second_feature], axis=1)"
   ]
  },
  {
   "cell_type": "code",
   "execution_count": 8,
   "id": "40a3e15e",
   "metadata": {
    "execution": {
     "iopub.execute_input": "2023-03-21T14:23:56.255063Z",
     "iopub.status.busy": "2023-03-21T14:23:56.254599Z",
     "iopub.status.idle": "2023-03-21T14:24:14.974525Z",
     "shell.execute_reply": "2023-03-21T14:24:14.973593Z"
    },
    "papermill": {
     "duration": 18.729856,
     "end_time": "2023-03-21T14:24:14.977429",
     "exception": false,
     "start_time": "2023-03-21T14:23:56.247573",
     "status": "completed"
    },
    "tags": []
   },
   "outputs": [
    {
     "name": "stdout",
     "output_type": "stream",
     "text": [
      "3.6 GB\n"
     ]
    }
   ],
   "source": [
    "# Check file size and export to file.\n",
    "size = df_test2.memory_usage(deep='True').sum()\n",
    "print(naturalsize(size))\n",
    "df_test2.to_parquet('test_features_with_w2v_part_1.parquet')"
   ]
  }
 ],
 "metadata": {
  "kernelspec": {
   "display_name": "Python 3",
   "language": "python",
   "name": "python3"
  },
  "language_info": {
   "codemirror_mode": {
    "name": "ipython",
    "version": 3
   },
   "file_extension": ".py",
   "mimetype": "text/x-python",
   "name": "python",
   "nbconvert_exporter": "python",
   "pygments_lexer": "ipython3",
   "version": "3.7.12"
  },
  "papermill": {
   "default_parameters": {},
   "duration": 6862.002584,
   "end_time": "2023-03-21T14:24:16.235587",
   "environment_variables": {},
   "exception": null,
   "input_path": "__notebook__.ipynb",
   "output_path": "__notebook__.ipynb",
   "parameters": {},
   "start_time": "2023-03-21T12:29:54.233003",
   "version": "2.3.4"
  }
 },
 "nbformat": 4,
 "nbformat_minor": 5
}
